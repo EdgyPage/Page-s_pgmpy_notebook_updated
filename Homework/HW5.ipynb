{
 "cells": [
  {
   "attachments": {},
   "cell_type": "markdown",
   "metadata": {},
   "source": [
    "PART 1"
   ]
  },
  {
   "cell_type": "code",
   "execution_count": 24,
   "metadata": {},
   "outputs": [
    {
     "data": {
      "text/html": [
       "<div>\n",
       "<style scoped>\n",
       "    .dataframe tbody tr th:only-of-type {\n",
       "        vertical-align: middle;\n",
       "    }\n",
       "\n",
       "    .dataframe tbody tr th {\n",
       "        vertical-align: top;\n",
       "    }\n",
       "\n",
       "    .dataframe thead th {\n",
       "        text-align: right;\n",
       "    }\n",
       "</style>\n",
       "<table border=\"1\" class=\"dataframe\">\n",
       "  <thead>\n",
       "    <tr style=\"text-align: right;\">\n",
       "      <th></th>\n",
       "      <th>mpg</th>\n",
       "      <th>cylinders</th>\n",
       "      <th>displacement</th>\n",
       "      <th>horsepower</th>\n",
       "      <th>weight</th>\n",
       "      <th>acceleration</th>\n",
       "      <th>model year</th>\n",
       "      <th>origin</th>\n",
       "      <th>car name</th>\n",
       "    </tr>\n",
       "  </thead>\n",
       "  <tbody>\n",
       "    <tr>\n",
       "      <th>0</th>\n",
       "      <td>low</td>\n",
       "      <td>8</td>\n",
       "      <td>high</td>\n",
       "      <td>high</td>\n",
       "      <td>high</td>\n",
       "      <td>low</td>\n",
       "      <td>70</td>\n",
       "      <td>1</td>\n",
       "      <td>chevrolet chevelle malibu</td>\n",
       "    </tr>\n",
       "    <tr>\n",
       "      <th>1</th>\n",
       "      <td>low</td>\n",
       "      <td>8</td>\n",
       "      <td>high</td>\n",
       "      <td>high</td>\n",
       "      <td>high</td>\n",
       "      <td>low</td>\n",
       "      <td>70</td>\n",
       "      <td>1</td>\n",
       "      <td>buick skylark 320</td>\n",
       "    </tr>\n",
       "    <tr>\n",
       "      <th>2</th>\n",
       "      <td>low</td>\n",
       "      <td>8</td>\n",
       "      <td>high</td>\n",
       "      <td>high</td>\n",
       "      <td>high</td>\n",
       "      <td>low</td>\n",
       "      <td>70</td>\n",
       "      <td>1</td>\n",
       "      <td>plymouth satellite</td>\n",
       "    </tr>\n",
       "    <tr>\n",
       "      <th>3</th>\n",
       "      <td>low</td>\n",
       "      <td>8</td>\n",
       "      <td>high</td>\n",
       "      <td>high</td>\n",
       "      <td>high</td>\n",
       "      <td>low</td>\n",
       "      <td>70</td>\n",
       "      <td>1</td>\n",
       "      <td>amc rebel sst</td>\n",
       "    </tr>\n",
       "    <tr>\n",
       "      <th>4</th>\n",
       "      <td>low</td>\n",
       "      <td>8</td>\n",
       "      <td>high</td>\n",
       "      <td>high</td>\n",
       "      <td>high</td>\n",
       "      <td>low</td>\n",
       "      <td>70</td>\n",
       "      <td>1</td>\n",
       "      <td>ford torino</td>\n",
       "    </tr>\n",
       "    <tr>\n",
       "      <th>...</th>\n",
       "      <td>...</td>\n",
       "      <td>...</td>\n",
       "      <td>...</td>\n",
       "      <td>...</td>\n",
       "      <td>...</td>\n",
       "      <td>...</td>\n",
       "      <td>...</td>\n",
       "      <td>...</td>\n",
       "      <td>...</td>\n",
       "    </tr>\n",
       "    <tr>\n",
       "      <th>94</th>\n",
       "      <td>high</td>\n",
       "      <td>4</td>\n",
       "      <td>low</td>\n",
       "      <td>low</td>\n",
       "      <td>low</td>\n",
       "      <td>low</td>\n",
       "      <td>74</td>\n",
       "      <td>2</td>\n",
       "      <td>fiat 124 tc</td>\n",
       "    </tr>\n",
       "    <tr>\n",
       "      <th>95</th>\n",
       "      <td>high</td>\n",
       "      <td>4</td>\n",
       "      <td>low</td>\n",
       "      <td>low</td>\n",
       "      <td>low</td>\n",
       "      <td>high</td>\n",
       "      <td>74</td>\n",
       "      <td>3</td>\n",
       "      <td>honda civic</td>\n",
       "    </tr>\n",
       "    <tr>\n",
       "      <th>96</th>\n",
       "      <td>high</td>\n",
       "      <td>4</td>\n",
       "      <td>low</td>\n",
       "      <td>low</td>\n",
       "      <td>low</td>\n",
       "      <td>high</td>\n",
       "      <td>74</td>\n",
       "      <td>3</td>\n",
       "      <td>subaru</td>\n",
       "    </tr>\n",
       "    <tr>\n",
       "      <th>97</th>\n",
       "      <td>high</td>\n",
       "      <td>4</td>\n",
       "      <td>low</td>\n",
       "      <td>low</td>\n",
       "      <td>low</td>\n",
       "      <td>high</td>\n",
       "      <td>74</td>\n",
       "      <td>2</td>\n",
       "      <td>fiat x1.9</td>\n",
       "    </tr>\n",
       "    <tr>\n",
       "      <th>98</th>\n",
       "      <td>high</td>\n",
       "      <td>4</td>\n",
       "      <td>low</td>\n",
       "      <td>low</td>\n",
       "      <td>low</td>\n",
       "      <td>high</td>\n",
       "      <td>75</td>\n",
       "      <td>3</td>\n",
       "      <td>toyota corolla</td>\n",
       "    </tr>\n",
       "  </tbody>\n",
       "</table>\n",
       "<p>99 rows × 9 columns</p>\n",
       "</div>"
      ],
      "text/plain": [
       "     mpg  cylinders displacement horsepower weight acceleration  model year  \\\n",
       "0    low          8         high       high   high          low          70   \n",
       "1    low          8         high       high   high          low          70   \n",
       "2    low          8         high       high   high          low          70   \n",
       "3    low          8         high       high   high          low          70   \n",
       "4    low          8         high       high   high          low          70   \n",
       "..   ...        ...          ...        ...    ...          ...         ...   \n",
       "94  high          4          low        low    low          low          74   \n",
       "95  high          4          low        low    low         high          74   \n",
       "96  high          4          low        low    low         high          74   \n",
       "97  high          4          low        low    low         high          74   \n",
       "98  high          4          low        low    low         high          75   \n",
       "\n",
       "    origin                   car name  \n",
       "0        1  chevrolet chevelle malibu  \n",
       "1        1          buick skylark 320  \n",
       "2        1         plymouth satellite  \n",
       "3        1              amc rebel sst  \n",
       "4        1                ford torino  \n",
       "..     ...                        ...  \n",
       "94       2                fiat 124 tc  \n",
       "95       3                honda civic  \n",
       "96       3                     subaru  \n",
       "97       2                  fiat x1.9  \n",
       "98       3             toyota corolla  \n",
       "\n",
       "[99 rows x 9 columns]"
      ]
     },
     "execution_count": 24,
     "metadata": {},
     "output_type": "execute_result"
    }
   ],
   "source": [
    "import pandas as p\n",
    "\n",
    "'''\n",
    "    1. mpg:           continuous\n",
    "    2. cylinders:     multi-valued discrete\n",
    "    3. displacement:  continuous\n",
    "    4. horsepower:    continuous\n",
    "    5. weight:        continuous\n",
    "    6. acceleration:  continuous\n",
    "    7. model year:    multi-valued discrete\n",
    "    8. origin:        multi-valued discrete\n",
    "    9. car name:      string (unique for each instance)\n",
    "'''\n",
    "\n",
    "def discretizer(frame, continousVariables):\n",
    "    for var in continousVariables:\n",
    "        frame[var] = p.cut(data[var], bins= [0, data[var].median(), data[var].max()], labels= ['low', 'high'])\n",
    "    return frame\n",
    "\n",
    "conVars = ['mpg', 'displacement', 'horsepower', 'weight', 'acceleration']\n",
    "\n",
    "data = p.read_csv('auto-mpg.csv')\n",
    "\n",
    "data = discretizer(data, conVars)\n",
    "data.astype('category')\n",
    "data"
   ]
  },
  {
   "attachments": {},
   "cell_type": "markdown",
   "metadata": {},
   "source": [
    "PART 2"
   ]
  },
  {
   "cell_type": "code",
   "execution_count": 27,
   "metadata": {},
   "outputs": [
    {
     "name": "stderr",
     "output_type": "stream",
     "text": [
      "\n",
      "\u001b[A\n",
      "\u001b[A\n",
      "\u001b[A\n",
      "\u001b[Ac:\\Users\\Razi's good laptop\\AppData\\Local\\Programs\\Python\\Python39\\lib\\site-packages\\pgmpy\\estimators\\CITests.py:548: FutureWarning: In a future version of pandas, a length 1 tuple will be returned when iterating over a groupby with a grouper equal to a list of length 1. Don't supply a list with a single grouper to avoid this warning.\n",
      "  for z_state, df in data.groupby(Z):\n",
      "c:\\Users\\Razi's good laptop\\AppData\\Local\\Programs\\Python\\Python39\\lib\\site-packages\\pgmpy\\estimators\\CITests.py:548: FutureWarning: In a future version of pandas, a length 1 tuple will be returned when iterating over a groupby with a grouper equal to a list of length 1. Don't supply a list with a single grouper to avoid this warning.\n",
      "  for z_state, df in data.groupby(Z):\n"
     ]
    },
    {
     "ename": "TypeError",
     "evalue": "'int' object is not iterable",
     "output_type": "error",
     "traceback": [
      "\u001b[1;31m---------------------------------------------------------------------------\u001b[0m",
      "\u001b[1;31mValueError\u001b[0m                                Traceback (most recent call last)",
      "File \u001b[1;32mc:\\Users\\Razi's good laptop\\AppData\\Local\\Programs\\Python\\Python39\\lib\\site-packages\\pgmpy\\estimators\\CITests.py:550\u001b[0m, in \u001b[0;36mpower_divergence\u001b[1;34m(X, Y, Z, data, boolean, lambda_, **kwargs)\u001b[0m\n\u001b[0;32m    549\u001b[0m \u001b[39mtry\u001b[39;00m:\n\u001b[1;32m--> 550\u001b[0m     c, _, d, _ \u001b[39m=\u001b[39m stats\u001b[39m.\u001b[39;49mchi2_contingency(\n\u001b[0;32m    551\u001b[0m         df\u001b[39m.\u001b[39;49mgroupby([X, Y])\u001b[39m.\u001b[39;49msize()\u001b[39m.\u001b[39;49munstack(Y, fill_value\u001b[39m=\u001b[39;49m\u001b[39m0\u001b[39;49m), lambda_\u001b[39m=\u001b[39;49mlambda_\n\u001b[0;32m    552\u001b[0m     )\n\u001b[0;32m    553\u001b[0m     chi \u001b[39m+\u001b[39m\u001b[39m=\u001b[39m c\n",
      "File \u001b[1;32mc:\\Users\\Razi's good laptop\\AppData\\Local\\Programs\\Python\\Python39\\lib\\site-packages\\scipy\\stats\\contingency.py:292\u001b[0m, in \u001b[0;36mchi2_contingency\u001b[1;34m(observed, correction, lambda_)\u001b[0m\n\u001b[0;32m    291\u001b[0m     zeropos \u001b[39m=\u001b[39m \u001b[39mlist\u001b[39m(\u001b[39mzip\u001b[39m(\u001b[39m*\u001b[39mnp\u001b[39m.\u001b[39mnonzero(expected \u001b[39m==\u001b[39m \u001b[39m0\u001b[39m)))[\u001b[39m0\u001b[39m]\n\u001b[1;32m--> 292\u001b[0m     \u001b[39mraise\u001b[39;00m \u001b[39mValueError\u001b[39;00m(\u001b[39m\"\u001b[39m\u001b[39mThe internally computed table of expected \u001b[39m\u001b[39m\"\u001b[39m\n\u001b[0;32m    293\u001b[0m                      \u001b[39m\"\u001b[39m\u001b[39mfrequencies has a zero element at \u001b[39m\u001b[39m%s\u001b[39;00m\u001b[39m.\u001b[39m\u001b[39m\"\u001b[39m \u001b[39m%\u001b[39m (zeropos,))\n\u001b[0;32m    295\u001b[0m \u001b[39m# The degrees of freedom\u001b[39;00m\n",
      "\u001b[1;31mValueError\u001b[0m: The internally computed table of expected frequencies has a zero element at (0, 0).",
      "\nDuring handling of the above exception, another exception occurred:\n",
      "\u001b[1;31mTypeError\u001b[0m                                 Traceback (most recent call last)",
      "Cell \u001b[1;32mIn[27], line 6\u001b[0m\n\u001b[0;32m      3\u001b[0m \u001b[39m# estimatedDAG = PC(data.loc[:, data.columns != 'car name'])\u001b[39;00m\n\u001b[0;32m      4\u001b[0m \u001b[39m#estimatedDAG.estimate().edges()\u001b[39;00m\n\u001b[0;32m      5\u001b[0m est \u001b[39m=\u001b[39m PC(data)\n\u001b[1;32m----> 6\u001b[0m skel, seperating_sets \u001b[39m=\u001b[39m est\u001b[39m.\u001b[39;49mbuild_skeleton(significance_level\u001b[39m=\u001b[39;49m\u001b[39m0.01\u001b[39;49m)\n\u001b[0;32m      7\u001b[0m \u001b[39mprint\u001b[39m(\u001b[39m\"\u001b[39m\u001b[39mUndirected edges: \u001b[39m\u001b[39m\"\u001b[39m, skel\u001b[39m.\u001b[39medges())\n\u001b[0;32m      9\u001b[0m pdag \u001b[39m=\u001b[39m est\u001b[39m.\u001b[39mskeleton_to_pdag(skel, seperating_sets)\n",
      "File \u001b[1;32mc:\\Users\\Razi's good laptop\\AppData\\Local\\Programs\\Python\\Python39\\lib\\site-packages\\pgmpy\\estimators\\PC.py:320\u001b[0m, in \u001b[0;36mPC.build_skeleton\u001b[1;34m(self, ci_test, max_cond_vars, significance_level, variant, n_jobs, show_progress, **kwargs)\u001b[0m\n\u001b[0;32m    313\u001b[0m \u001b[39mfor\u001b[39;00m (u, v) \u001b[39min\u001b[39;00m graph\u001b[39m.\u001b[39medges():\n\u001b[0;32m    314\u001b[0m     \u001b[39mfor\u001b[39;00m separating_set \u001b[39min\u001b[39;00m chain(\n\u001b[0;32m    315\u001b[0m         combinations(\u001b[39mset\u001b[39m(neighbors[u]) \u001b[39m-\u001b[39m \u001b[39mset\u001b[39m([v]), lim_neighbors),\n\u001b[0;32m    316\u001b[0m         combinations(\u001b[39mset\u001b[39m(neighbors[v]) \u001b[39m-\u001b[39m \u001b[39mset\u001b[39m([u]), lim_neighbors),\n\u001b[0;32m    317\u001b[0m     ):\n\u001b[0;32m    318\u001b[0m         \u001b[39m# If a conditioning set exists remove the edge, store the\u001b[39;00m\n\u001b[0;32m    319\u001b[0m         \u001b[39m# separating set and move on to finding conditioning set for next edge.\u001b[39;00m\n\u001b[1;32m--> 320\u001b[0m         \u001b[39mif\u001b[39;00m ci_test(\n\u001b[0;32m    321\u001b[0m             u,\n\u001b[0;32m    322\u001b[0m             v,\n\u001b[0;32m    323\u001b[0m             separating_set,\n\u001b[0;32m    324\u001b[0m             data\u001b[39m=\u001b[39m\u001b[39mself\u001b[39m\u001b[39m.\u001b[39mdata,\n\u001b[0;32m    325\u001b[0m             independencies\u001b[39m=\u001b[39m\u001b[39mself\u001b[39m\u001b[39m.\u001b[39mindependencies,\n\u001b[0;32m    326\u001b[0m             significance_level\u001b[39m=\u001b[39msignificance_level,\n\u001b[0;32m    327\u001b[0m             \u001b[39m*\u001b[39m\u001b[39m*\u001b[39mkwargs,\n\u001b[0;32m    328\u001b[0m         ):\n\u001b[0;32m    329\u001b[0m             separating_sets[\u001b[39mfrozenset\u001b[39m((u, v))] \u001b[39m=\u001b[39m separating_set\n\u001b[0;32m    330\u001b[0m             graph\u001b[39m.\u001b[39mremove_edge(u, v)\n",
      "File \u001b[1;32mc:\\Users\\Razi's good laptop\\AppData\\Local\\Programs\\Python\\Python39\\lib\\site-packages\\pgmpy\\estimators\\CITests.py:95\u001b[0m, in \u001b[0;36mchi_square\u001b[1;34m(X, Y, Z, data, boolean, **kwargs)\u001b[0m\n\u001b[0;32m     35\u001b[0m \u001b[39mdef\u001b[39;00m \u001b[39mchi_square\u001b[39m(X, Y, Z, data, boolean\u001b[39m=\u001b[39m\u001b[39mTrue\u001b[39;00m, \u001b[39m*\u001b[39m\u001b[39m*\u001b[39mkwargs):\n\u001b[0;32m     36\u001b[0m \u001b[39m    \u001b[39m\u001b[39mr\u001b[39m\u001b[39m\"\"\"\u001b[39;00m\n\u001b[0;32m     37\u001b[0m \u001b[39m    Chi-square conditional independence test.\u001b[39;00m\n\u001b[0;32m     38\u001b[0m \u001b[39m    Tests the null hypothesis that X is independent from Y given Zs.\u001b[39;00m\n\u001b[1;32m   (...)\u001b[0m\n\u001b[0;32m     93\u001b[0m \u001b[39m    False\u001b[39;00m\n\u001b[0;32m     94\u001b[0m \u001b[39m    \"\"\"\u001b[39;00m\n\u001b[1;32m---> 95\u001b[0m     \u001b[39mreturn\u001b[39;00m power_divergence(\n\u001b[0;32m     96\u001b[0m         X\u001b[39m=\u001b[39mX, Y\u001b[39m=\u001b[39mY, Z\u001b[39m=\u001b[39mZ, data\u001b[39m=\u001b[39mdata, boolean\u001b[39m=\u001b[39mboolean, lambda_\u001b[39m=\u001b[39m\u001b[39m\"\u001b[39m\u001b[39mpearson\u001b[39m\u001b[39m\"\u001b[39m, \u001b[39m*\u001b[39m\u001b[39m*\u001b[39mkwargs\n\u001b[0;32m     97\u001b[0m     )\n",
      "File \u001b[1;32mc:\\Users\\Razi's good laptop\\AppData\\Local\\Programs\\Python\\Python39\\lib\\site-packages\\pgmpy\\estimators\\CITests.py:563\u001b[0m, in \u001b[0;36mpower_divergence\u001b[1;34m(X, Y, Z, data, boolean, lambda_, **kwargs)\u001b[0m\n\u001b[0;32m    558\u001b[0m             logging\u001b[39m.\u001b[39minfo(\n\u001b[0;32m    559\u001b[0m                 \u001b[39mf\u001b[39m\u001b[39m\"\u001b[39m\u001b[39mSkipping the test \u001b[39m\u001b[39m{\u001b[39;00mX\u001b[39m}\u001b[39;00m\u001b[39m \u001b[39m\u001b[39m\\u27C2\u001b[39;00m\u001b[39m \u001b[39m\u001b[39m{\u001b[39;00mY\u001b[39m}\u001b[39;00m\u001b[39m | \u001b[39m\u001b[39m{\u001b[39;00mZ[\u001b[39m0\u001b[39m]\u001b[39m}\u001b[39;00m\u001b[39m=\u001b[39m\u001b[39m{\u001b[39;00mz_state\u001b[39m}\u001b[39;00m\u001b[39m. Not enough samples\u001b[39m\u001b[39m\"\u001b[39m\n\u001b[0;32m    560\u001b[0m             )\n\u001b[0;32m    561\u001b[0m         \u001b[39melse\u001b[39;00m:\n\u001b[0;32m    562\u001b[0m             z_str \u001b[39m=\u001b[39m \u001b[39m\"\u001b[39m\u001b[39m, \u001b[39m\u001b[39m\"\u001b[39m\u001b[39m.\u001b[39mjoin(\n\u001b[1;32m--> 563\u001b[0m                 [\u001b[39mf\u001b[39m\u001b[39m\"\u001b[39m\u001b[39m{\u001b[39;00mvar\u001b[39m}\u001b[39;00m\u001b[39m=\u001b[39m\u001b[39m{\u001b[39;00mstate\u001b[39m}\u001b[39;00m\u001b[39m\"\u001b[39m \u001b[39mfor\u001b[39;00m var, state \u001b[39min\u001b[39;00m \u001b[39mzip\u001b[39;49m(Z, z_state)]\n\u001b[0;32m    564\u001b[0m             )\n\u001b[0;32m    565\u001b[0m             logging\u001b[39m.\u001b[39minfo(\n\u001b[0;32m    566\u001b[0m                 \u001b[39mf\u001b[39m\u001b[39m\"\u001b[39m\u001b[39mSkipping the test \u001b[39m\u001b[39m{\u001b[39;00mX\u001b[39m}\u001b[39;00m\u001b[39m \u001b[39m\u001b[39m\\u27C2\u001b[39;00m\u001b[39m \u001b[39m\u001b[39m{\u001b[39;00mY\u001b[39m}\u001b[39;00m\u001b[39m | \u001b[39m\u001b[39m{\u001b[39;00mz_str\u001b[39m}\u001b[39;00m\u001b[39m. Not enough samples\u001b[39m\u001b[39m\"\u001b[39m\n\u001b[0;32m    567\u001b[0m             )\n\u001b[0;32m    568\u001b[0m p_value \u001b[39m=\u001b[39m \u001b[39m1\u001b[39m \u001b[39m-\u001b[39m stats\u001b[39m.\u001b[39mchi2\u001b[39m.\u001b[39mcdf(chi, df\u001b[39m=\u001b[39mdof)\n",
      "\u001b[1;31mTypeError\u001b[0m: 'int' object is not iterable"
     ]
    }
   ],
   "source": [
    "from pgmpy.estimators import PC\n",
    "\n",
    "# estimatedDAG = PC(data.loc[:, data.columns != 'car name'])\n",
    "#estimatedDAG.estimate().edges()\n",
    "est = PC(data)\n",
    "skel, seperating_sets = est.build_skeleton(significance_level=0.01)\n",
    "print(\"Undirected edges: \", skel.edges())\n",
    "\n",
    "pdag = est.skeleton_to_pdag(skel, seperating_sets)\n",
    "print(\"PDAG edges:       \", pdag.edges())\n",
    "\n",
    "model = pdag.to_dag()\n",
    "print(\"DAG edges:        \", model.edges())"
   ]
  },
  {
   "attachments": {},
   "cell_type": "markdown",
   "metadata": {},
   "source": [
    "PART 2B"
   ]
  },
  {
   "cell_type": "code",
   "execution_count": 30,
   "metadata": {},
   "outputs": [
    {
     "name": "stderr",
     "output_type": "stream",
     "text": [
      "\n",
      "\n",
      "\u001b[A\u001b[A\n",
      "\n",
      "\u001b[A\u001b[A\n",
      "\n",
      "\u001b[A\u001b[A\n",
      "\n",
      "\u001b[A\u001b[A\n",
      "\n",
      "  0%|          | 7/1000000 [00:01<42:56:12,  6.47it/s]"
     ]
    },
    {
     "name": "stdout",
     "output_type": "stream",
     "text": [
      "[('mpg', 'horsepower'), ('cylinders', 'displacement'), ('cylinders', 'weight'), ('cylinders', 'mpg'), ('displacement', 'origin'), ('displacement', 'model year'), ('horsepower', 'acceleration')]\n"
     ]
    },
    {
     "name": "stderr",
     "output_type": "stream",
     "text": [
      "\n"
     ]
    }
   ],
   "source": [
    "from pgmpy.estimators import HillClimbSearch as hcs\n",
    "from pgmpy.estimators import BDeuScore, K2Score, BicScore\n",
    "climb = hcs(data)\n",
    "bestHCModel = climb.estimate(scoring_method=BicScore(data))\n",
    "print(bestHCModel.edges())"
   ]
  },
  {
   "cell_type": "code",
   "execution_count": 31,
   "metadata": {},
   "outputs": [
    {
     "name": "stderr",
     "output_type": "stream",
     "text": [
      "\n",
      "\n",
      "\u001b[A\u001b[A\n",
      "\n",
      "\u001b[A\u001b[A\n",
      "\n",
      "\u001b[A\u001b[A\n",
      "\n",
      "\u001b[A\u001b[A\n",
      "\n",
      "\u001b[A\u001b[A\n",
      "\n",
      "\u001b[A\u001b[A\n",
      "\n",
      "\u001b[A\u001b[A\n",
      "\n",
      "\u001b[A\u001b[A\n",
      "\n",
      "\u001b[A\u001b[A\n",
      "\n",
      "  0%|          | 18/1000000 [00:01<26:51:05, 10.34it/s]"
     ]
    },
    {
     "name": "stdout",
     "output_type": "stream",
     "text": [
      "[('mpg', 'weight'), ('mpg', 'model year'), ('cylinders', 'weight'), ('cylinders', 'mpg'), ('cylinders', 'horsepower'), ('cylinders', 'origin'), ('cylinders', 'acceleration'), ('cylinders', 'model year'), ('displacement', 'cylinders'), ('displacement', 'car name'), ('displacement', 'horsepower'), ('displacement', 'weight'), ('displacement', 'origin'), ('displacement', 'mpg'), ('horsepower', 'mpg'), ('horsepower', 'acceleration'), ('horsepower', 'weight'), ('weight', 'origin')]\n"
     ]
    },
    {
     "name": "stderr",
     "output_type": "stream",
     "text": [
      "\n"
     ]
    }
   ],
   "source": [
    "\n",
    "bestBDSHCModel = climb.estimate(scoring_method=BDeuScore(data))\n",
    "print(bestBDSHCModel.edges())"
   ]
  },
  {
   "cell_type": "code",
   "execution_count": 32,
   "metadata": {},
   "outputs": [
    {
     "name": "stderr",
     "output_type": "stream",
     "text": [
      "\n",
      "\n",
      "\u001b[A\u001b[A\n",
      "\n",
      "\u001b[A\u001b[A\n",
      "\n",
      "\u001b[A\u001b[A\n",
      "\n",
      "\u001b[A\u001b[A\n",
      "\n",
      "\u001b[A\u001b[A\n",
      "\n",
      "\u001b[A\u001b[A\n",
      "\n",
      "\u001b[A\u001b[A\n",
      "\n",
      "\u001b[A\u001b[A\n",
      "\n",
      "\u001b[A\u001b[A\n",
      "\n",
      "  0%|          | 18/1000000 [00:02<31:19:04,  8.87it/s]"
     ]
    },
    {
     "name": "stdout",
     "output_type": "stream",
     "text": [
      "[('mpg', 'horsepower'), ('mpg', 'model year'), ('cylinders', 'displacement'), ('cylinders', 'weight'), ('cylinders', 'mpg'), ('cylinders', 'horsepower'), ('cylinders', 'car name'), ('cylinders', 'acceleration'), ('cylinders', 'model year'), ('displacement', 'origin'), ('displacement', 'mpg'), ('displacement', 'car name'), ('horsepower', 'acceleration'), ('horsepower', 'car name'), ('weight', 'mpg'), ('weight', 'car name'), ('acceleration', 'car name'), ('origin', 'car name')]\n"
     ]
    },
    {
     "name": "stderr",
     "output_type": "stream",
     "text": [
      "\n"
     ]
    }
   ],
   "source": [
    "bestK2HCModel = climb.estimate(scoring_method=K2Score(data))\n",
    "print(bestK2HCModel.edges())"
   ]
  }
 ],
 "metadata": {
  "kernelspec": {
   "display_name": "Python 3",
   "language": "python",
   "name": "python3"
  },
  "language_info": {
   "codemirror_mode": {
    "name": "ipython",
    "version": 3
   },
   "file_extension": ".py",
   "mimetype": "text/x-python",
   "name": "python",
   "nbconvert_exporter": "python",
   "pygments_lexer": "ipython3",
   "version": "3.9.10"
  },
  "orig_nbformat": 4
 },
 "nbformat": 4,
 "nbformat_minor": 2
}
