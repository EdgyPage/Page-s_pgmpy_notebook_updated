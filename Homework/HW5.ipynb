{
 "cells": [
  {
   "attachments": {},
   "cell_type": "markdown",
   "metadata": {},
   "source": [
    "PART 1"
   ]
  },
  {
   "cell_type": "code",
   "execution_count": 35,
   "metadata": {},
   "outputs": [
    {
     "data": {
      "text/html": [
       "<div>\n",
       "<style scoped>\n",
       "    .dataframe tbody tr th:only-of-type {\n",
       "        vertical-align: middle;\n",
       "    }\n",
       "\n",
       "    .dataframe tbody tr th {\n",
       "        vertical-align: top;\n",
       "    }\n",
       "\n",
       "    .dataframe thead th {\n",
       "        text-align: right;\n",
       "    }\n",
       "</style>\n",
       "<table border=\"1\" class=\"dataframe\">\n",
       "  <thead>\n",
       "    <tr style=\"text-align: right;\">\n",
       "      <th></th>\n",
       "      <th>mpg</th>\n",
       "      <th>cylinders</th>\n",
       "      <th>displacement</th>\n",
       "      <th>horsepower</th>\n",
       "      <th>weight</th>\n",
       "      <th>acceleration</th>\n",
       "      <th>model year</th>\n",
       "      <th>origin</th>\n",
       "    </tr>\n",
       "  </thead>\n",
       "  <tbody>\n",
       "    <tr>\n",
       "      <th>0</th>\n",
       "      <td>low</td>\n",
       "      <td>8</td>\n",
       "      <td>high</td>\n",
       "      <td>high</td>\n",
       "      <td>high</td>\n",
       "      <td>low</td>\n",
       "      <td>70</td>\n",
       "      <td>1</td>\n",
       "    </tr>\n",
       "    <tr>\n",
       "      <th>1</th>\n",
       "      <td>low</td>\n",
       "      <td>8</td>\n",
       "      <td>high</td>\n",
       "      <td>high</td>\n",
       "      <td>high</td>\n",
       "      <td>low</td>\n",
       "      <td>70</td>\n",
       "      <td>1</td>\n",
       "    </tr>\n",
       "    <tr>\n",
       "      <th>2</th>\n",
       "      <td>low</td>\n",
       "      <td>8</td>\n",
       "      <td>high</td>\n",
       "      <td>high</td>\n",
       "      <td>high</td>\n",
       "      <td>low</td>\n",
       "      <td>70</td>\n",
       "      <td>1</td>\n",
       "    </tr>\n",
       "    <tr>\n",
       "      <th>3</th>\n",
       "      <td>low</td>\n",
       "      <td>8</td>\n",
       "      <td>high</td>\n",
       "      <td>high</td>\n",
       "      <td>high</td>\n",
       "      <td>low</td>\n",
       "      <td>70</td>\n",
       "      <td>1</td>\n",
       "    </tr>\n",
       "    <tr>\n",
       "      <th>4</th>\n",
       "      <td>low</td>\n",
       "      <td>8</td>\n",
       "      <td>high</td>\n",
       "      <td>high</td>\n",
       "      <td>high</td>\n",
       "      <td>low</td>\n",
       "      <td>70</td>\n",
       "      <td>1</td>\n",
       "    </tr>\n",
       "    <tr>\n",
       "      <th>...</th>\n",
       "      <td>...</td>\n",
       "      <td>...</td>\n",
       "      <td>...</td>\n",
       "      <td>...</td>\n",
       "      <td>...</td>\n",
       "      <td>...</td>\n",
       "      <td>...</td>\n",
       "      <td>...</td>\n",
       "    </tr>\n",
       "    <tr>\n",
       "      <th>94</th>\n",
       "      <td>high</td>\n",
       "      <td>4</td>\n",
       "      <td>low</td>\n",
       "      <td>low</td>\n",
       "      <td>low</td>\n",
       "      <td>low</td>\n",
       "      <td>74</td>\n",
       "      <td>2</td>\n",
       "    </tr>\n",
       "    <tr>\n",
       "      <th>95</th>\n",
       "      <td>high</td>\n",
       "      <td>4</td>\n",
       "      <td>low</td>\n",
       "      <td>low</td>\n",
       "      <td>low</td>\n",
       "      <td>high</td>\n",
       "      <td>74</td>\n",
       "      <td>3</td>\n",
       "    </tr>\n",
       "    <tr>\n",
       "      <th>96</th>\n",
       "      <td>high</td>\n",
       "      <td>4</td>\n",
       "      <td>low</td>\n",
       "      <td>low</td>\n",
       "      <td>low</td>\n",
       "      <td>high</td>\n",
       "      <td>74</td>\n",
       "      <td>3</td>\n",
       "    </tr>\n",
       "    <tr>\n",
       "      <th>97</th>\n",
       "      <td>high</td>\n",
       "      <td>4</td>\n",
       "      <td>low</td>\n",
       "      <td>low</td>\n",
       "      <td>low</td>\n",
       "      <td>high</td>\n",
       "      <td>74</td>\n",
       "      <td>2</td>\n",
       "    </tr>\n",
       "    <tr>\n",
       "      <th>98</th>\n",
       "      <td>high</td>\n",
       "      <td>4</td>\n",
       "      <td>low</td>\n",
       "      <td>low</td>\n",
       "      <td>low</td>\n",
       "      <td>high</td>\n",
       "      <td>75</td>\n",
       "      <td>3</td>\n",
       "    </tr>\n",
       "  </tbody>\n",
       "</table>\n",
       "<p>99 rows × 8 columns</p>\n",
       "</div>"
      ],
      "text/plain": [
       "     mpg  cylinders displacement horsepower weight acceleration  model year  \\\n",
       "0    low          8         high       high   high          low          70   \n",
       "1    low          8         high       high   high          low          70   \n",
       "2    low          8         high       high   high          low          70   \n",
       "3    low          8         high       high   high          low          70   \n",
       "4    low          8         high       high   high          low          70   \n",
       "..   ...        ...          ...        ...    ...          ...         ...   \n",
       "94  high          4          low        low    low          low          74   \n",
       "95  high          4          low        low    low         high          74   \n",
       "96  high          4          low        low    low         high          74   \n",
       "97  high          4          low        low    low         high          74   \n",
       "98  high          4          low        low    low         high          75   \n",
       "\n",
       "    origin  \n",
       "0        1  \n",
       "1        1  \n",
       "2        1  \n",
       "3        1  \n",
       "4        1  \n",
       "..     ...  \n",
       "94       2  \n",
       "95       3  \n",
       "96       3  \n",
       "97       2  \n",
       "98       3  \n",
       "\n",
       "[99 rows x 8 columns]"
      ]
     },
     "execution_count": 35,
     "metadata": {},
     "output_type": "execute_result"
    }
   ],
   "source": [
    "import pandas as p\n",
    "\n",
    "'''\n",
    "    1. mpg:           continuous\n",
    "    2. cylinders:     multi-valued discrete\n",
    "    3. displacement:  continuous\n",
    "    4. horsepower:    continuous\n",
    "    5. weight:        continuous\n",
    "    6. acceleration:  continuous\n",
    "    7. model year:    multi-valued discrete\n",
    "    8. origin:        multi-valued discrete\n",
    "    9. car name:      string (unique for each instance)\n",
    "'''\n",
    "\n",
    "def discretizer(frame, continousVariables):\n",
    "    for var in continousVariables:\n",
    "        frame[var] = p.cut(data[var], bins= [0, data[var].median(), data[var].max()], labels= ['low', 'high'])\n",
    "    return frame\n",
    "\n",
    "conVars = ['mpg', 'displacement', 'horsepower', 'weight', 'acceleration']\n",
    "\n",
    "data = p.read_csv('auto-mpg.csv')\n",
    "\n",
    "data = discretizer(data, conVars)\n",
    "data.astype('category')\n",
    "data = data.drop('car name', axis=1)\n",
    "data"
   ]
  },
  {
   "attachments": {},
   "cell_type": "markdown",
   "metadata": {},
   "source": [
    "PART 2"
   ]
  },
  {
   "cell_type": "code",
   "execution_count": 46,
   "metadata": {},
   "outputs": [
    {
     "name": "stderr",
     "output_type": "stream",
     "text": []
    },
    {
     "ename": "TypeError",
     "evalue": "argument of type 'NoneType' is not iterable",
     "output_type": "error",
     "traceback": [
      "\u001b[1;31m---------------------------------------------------------------------------\u001b[0m",
      "\u001b[1;31mTypeError\u001b[0m                                 Traceback (most recent call last)",
      "Cell \u001b[1;32mIn[46], line 7\u001b[0m\n\u001b[0;32m      3\u001b[0m \u001b[39m# estimatedDAG = PC(data.loc[:, data.columns != 'car name'])\u001b[39;00m\n\u001b[0;32m      4\u001b[0m \u001b[39m#estimatedDAG.estimate().edges()\u001b[39;00m\n\u001b[0;32m      5\u001b[0m \u001b[39m#https://pgmpy.org/_modules/pgmpy/estimators/PC.html\u001b[39;00m\n\u001b[0;32m      6\u001b[0m est \u001b[39m=\u001b[39m PC(data)\n\u001b[1;32m----> 7\u001b[0m skel, seperating_sets \u001b[39m=\u001b[39m est\u001b[39m.\u001b[39;49mbuild_skeleton(significance_level\u001b[39m=\u001b[39;49m\u001b[39m0.01\u001b[39;49m, ci_test \u001b[39m=\u001b[39;49m \u001b[39m\"\u001b[39;49m\u001b[39mindependence_match\u001b[39;49m\u001b[39m\"\u001b[39;49m, max_cond_vars\u001b[39m=\u001b[39;49m \u001b[39m3\u001b[39;49m)\n\u001b[0;32m      8\u001b[0m \u001b[39mprint\u001b[39m(\u001b[39m\"\u001b[39m\u001b[39mUndirected edges: \u001b[39m\u001b[39m\"\u001b[39m, skel\u001b[39m.\u001b[39medges())\n\u001b[0;32m     10\u001b[0m pdag \u001b[39m=\u001b[39m est\u001b[39m.\u001b[39mskeleton_to_pdag(skel, seperating_sets)\n",
      "File \u001b[1;32mc:\\Users\\Razi's good laptop\\AppData\\Local\\Programs\\Python\\Python39\\lib\\site-packages\\pgmpy\\estimators\\PC.py:320\u001b[0m, in \u001b[0;36mPC.build_skeleton\u001b[1;34m(self, ci_test, max_cond_vars, significance_level, variant, n_jobs, show_progress, **kwargs)\u001b[0m\n\u001b[0;32m    313\u001b[0m \u001b[39mfor\u001b[39;00m (u, v) \u001b[39min\u001b[39;00m graph\u001b[39m.\u001b[39medges():\n\u001b[0;32m    314\u001b[0m     \u001b[39mfor\u001b[39;00m separating_set \u001b[39min\u001b[39;00m chain(\n\u001b[0;32m    315\u001b[0m         combinations(\u001b[39mset\u001b[39m(neighbors[u]) \u001b[39m-\u001b[39m \u001b[39mset\u001b[39m([v]), lim_neighbors),\n\u001b[0;32m    316\u001b[0m         combinations(\u001b[39mset\u001b[39m(neighbors[v]) \u001b[39m-\u001b[39m \u001b[39mset\u001b[39m([u]), lim_neighbors),\n\u001b[0;32m    317\u001b[0m     ):\n\u001b[0;32m    318\u001b[0m         \u001b[39m# If a conditioning set exists remove the edge, store the\u001b[39;00m\n\u001b[0;32m    319\u001b[0m         \u001b[39m# separating set and move on to finding conditioning set for next edge.\u001b[39;00m\n\u001b[1;32m--> 320\u001b[0m         \u001b[39mif\u001b[39;00m ci_test(\n\u001b[0;32m    321\u001b[0m             u,\n\u001b[0;32m    322\u001b[0m             v,\n\u001b[0;32m    323\u001b[0m             separating_set,\n\u001b[0;32m    324\u001b[0m             data\u001b[39m=\u001b[39m\u001b[39mself\u001b[39m\u001b[39m.\u001b[39mdata,\n\u001b[0;32m    325\u001b[0m             independencies\u001b[39m=\u001b[39m\u001b[39mself\u001b[39m\u001b[39m.\u001b[39mindependencies,\n\u001b[0;32m    326\u001b[0m             significance_level\u001b[39m=\u001b[39msignificance_level,\n\u001b[0;32m    327\u001b[0m             \u001b[39m*\u001b[39m\u001b[39m*\u001b[39mkwargs,\n\u001b[0;32m    328\u001b[0m         ):\n\u001b[0;32m    329\u001b[0m             separating_sets[\u001b[39mfrozenset\u001b[39m((u, v))] \u001b[39m=\u001b[39m separating_set\n\u001b[0;32m    330\u001b[0m             graph\u001b[39m.\u001b[39mremove_edge(u, v)\n",
      "File \u001b[1;32mc:\\Users\\Razi's good laptop\\AppData\\Local\\Programs\\Python\\Python39\\lib\\site-packages\\pgmpy\\estimators\\CITests.py:32\u001b[0m, in \u001b[0;36mindependence_match\u001b[1;34m(X, Y, Z, independencies, **kwargs)\u001b[0m\n\u001b[0;32m     10\u001b[0m \u001b[39mdef\u001b[39;00m \u001b[39mindependence_match\u001b[39m(X, Y, Z, independencies, \u001b[39m*\u001b[39m\u001b[39m*\u001b[39mkwargs):\n\u001b[0;32m     11\u001b[0m \u001b[39m    \u001b[39m\u001b[39m\"\"\"\u001b[39;00m\n\u001b[0;32m     12\u001b[0m \u001b[39m    Checks if `X \\u27C2 Y | Z` is in `independencies`. This method is implemented to\u001b[39;00m\n\u001b[0;32m     13\u001b[0m \u001b[39m    have an uniform API when the independencies are provided instead of data.\u001b[39;00m\n\u001b[1;32m   (...)\u001b[0m\n\u001b[0;32m     30\u001b[0m \u001b[39m    p-value: float (Fixed to 0 since it is always confident)\u001b[39;00m\n\u001b[0;32m     31\u001b[0m \u001b[39m    \"\"\"\u001b[39;00m\n\u001b[1;32m---> 32\u001b[0m     \u001b[39mreturn\u001b[39;00m IndependenceAssertion(X, Y, Z) \u001b[39min\u001b[39;49;00m independencies\n",
      "\u001b[1;31mTypeError\u001b[0m: argument of type 'NoneType' is not iterable"
     ]
    }
   ],
   "source": [
    "from pgmpy.estimators import PC\n",
    "\n",
    "# estimatedDAG = PC(data.loc[:, data.columns != 'car name'])\n",
    "#estimatedDAG.estimate().edges()\n",
    "#https://pgmpy.org/_modules/pgmpy/estimators/PC.html\n",
    "est = PC(data)\n",
    "skel, seperating_sets = est.build_skeleton(significance_level=0.01, ci_test = \"independence_match\", max_cond_vars= 3)\n",
    "print(\"Undirected edges: \", skel.edges())\n",
    "\n",
    "pdag = est.skeleton_to_pdag(skel, seperating_sets)\n",
    "print(\"PDAG edges:       \", pdag.edges())\n",
    "\n",
    "model = pdag.to_dag()\n",
    "print(\"DAG edges:        \", model.edges())"
   ]
  },
  {
   "attachments": {},
   "cell_type": "markdown",
   "metadata": {},
   "source": [
    "PART 2B"
   ]
  },
  {
   "cell_type": "code",
   "execution_count": 47,
   "metadata": {},
   "outputs": [
    {
     "name": "stderr",
     "output_type": "stream",
     "text": [
      "\n",
      "\u001b[A\n",
      "\u001b[A\n",
      "\u001b[A\n",
      "\u001b[A\n",
      "  0%|          | 7/1000000 [00:00<33:22:24,  8.32it/s]"
     ]
    },
    {
     "name": "stdout",
     "output_type": "stream",
     "text": [
      "[('mpg', 'horsepower'), ('cylinders', 'displacement'), ('cylinders', 'weight'), ('cylinders', 'mpg'), ('displacement', 'origin'), ('displacement', 'model year'), ('horsepower', 'acceleration')]\n"
     ]
    },
    {
     "name": "stderr",
     "output_type": "stream",
     "text": [
      "\n"
     ]
    }
   ],
   "source": [
    "from pgmpy.estimators import HillClimbSearch as hcs\n",
    "from pgmpy.estimators import BDeuScore, K2Score, BicScore\n",
    "climb = hcs(data)\n",
    "bestBICHCmodel = climb.estimate(scoring_method=BicScore(data))\n",
    "print(bestBICHCmodel.edges())"
   ]
  },
  {
   "cell_type": "code",
   "execution_count": 39,
   "metadata": {},
   "outputs": [
    {
     "name": "stderr",
     "output_type": "stream",
     "text": [
      "\n",
      "\n",
      "\n",
      "\n",
      "\u001b[A\u001b[A\u001b[A\u001b[A\n",
      "\n",
      "\n",
      "\n",
      "\u001b[A\u001b[A\u001b[A\u001b[A\n",
      "\n",
      "\n",
      "\n",
      "\u001b[A\u001b[A\u001b[A\u001b[A\n",
      "\n",
      "\n",
      "\n",
      "\u001b[A\u001b[A\u001b[A\u001b[A\n",
      "\n",
      "\n",
      "\n",
      "\u001b[A\u001b[A\u001b[A\u001b[A\n",
      "\n",
      "\n",
      "\n",
      "\u001b[A\u001b[A\u001b[A\u001b[A\n",
      "\n",
      "\n",
      "\n",
      "\u001b[A\u001b[A\u001b[A\u001b[A\n",
      "\n",
      "\n",
      "\n",
      "\u001b[A\u001b[A\u001b[A\u001b[A\n",
      "\n",
      "\n",
      "\n",
      "\u001b[A\u001b[A\u001b[A\u001b[A\n",
      "\n",
      "\n",
      "\n",
      "\u001b[A\u001b[A\u001b[A\u001b[A\n",
      "\n",
      "\n",
      "\n",
      "\u001b[A\u001b[A\u001b[A\u001b[A\n",
      "\n",
      "\n",
      "\n",
      "\u001b[A\u001b[A\u001b[A\u001b[A\n",
      "\n",
      "\n",
      "\n",
      "  0%|          | 17/1000000 [00:02<41:13:10,  6.74it/s]"
     ]
    },
    {
     "name": "stdout",
     "output_type": "stream",
     "text": [
      "[('mpg', 'weight'), ('mpg', 'model year'), ('cylinders', 'weight'), ('cylinders', 'mpg'), ('cylinders', 'horsepower'), ('cylinders', 'origin'), ('cylinders', 'acceleration'), ('cylinders', 'model year'), ('displacement', 'cylinders'), ('displacement', 'horsepower'), ('displacement', 'weight'), ('displacement', 'origin'), ('displacement', 'mpg'), ('horsepower', 'mpg'), ('horsepower', 'acceleration'), ('horsepower', 'weight'), ('weight', 'origin')]\n"
     ]
    },
    {
     "name": "stderr",
     "output_type": "stream",
     "text": [
      "\n"
     ]
    }
   ],
   "source": [
    "\n",
    "bestBDSHCModel = climb.estimate(scoring_method=BDeuScore(data))\n",
    "print(bestBDSHCModel.edges())"
   ]
  },
  {
   "cell_type": "code",
   "execution_count": 40,
   "metadata": {},
   "outputs": [
    {
     "name": "stderr",
     "output_type": "stream",
     "text": [
      "\n",
      "\n",
      "\n",
      "\n",
      "\u001b[A\u001b[A\u001b[A\u001b[A\n",
      "\n",
      "\n",
      "\n",
      "\u001b[A\u001b[A\u001b[A\u001b[A\n",
      "\n",
      "\n",
      "\n",
      "\u001b[A\u001b[A\u001b[A\u001b[A\n",
      "\n",
      "\n",
      "\n",
      "\u001b[A\u001b[A\u001b[A\u001b[A\n",
      "\n",
      "\n",
      "\n",
      "\u001b[A\u001b[A\u001b[A\u001b[A\n",
      "\n",
      "\n",
      "\n",
      "\u001b[A\u001b[A\u001b[A\u001b[A\n",
      "\n",
      "\n",
      "\n",
      "  0%|          | 12/1000000 [00:01<30:51:21,  9.00it/s]"
     ]
    },
    {
     "name": "stdout",
     "output_type": "stream",
     "text": [
      "[('mpg', 'horsepower'), ('mpg', 'model year'), ('cylinders', 'displacement'), ('cylinders', 'weight'), ('cylinders', 'mpg'), ('cylinders', 'horsepower'), ('cylinders', 'acceleration'), ('cylinders', 'model year'), ('displacement', 'origin'), ('displacement', 'mpg'), ('horsepower', 'acceleration'), ('weight', 'mpg')]\n"
     ]
    },
    {
     "name": "stderr",
     "output_type": "stream",
     "text": [
      "\n"
     ]
    }
   ],
   "source": [
    "bestK2HCModel = climb.estimate(scoring_method=K2Score(data))\n",
    "print(bestK2HCModel.edges())"
   ]
  },
  {
   "attachments": {},
   "cell_type": "markdown",
   "metadata": {},
   "source": [
    "PART 3"
   ]
  },
  {
   "attachments": {},
   "cell_type": "markdown",
   "metadata": {},
   "source": [
    "3 A"
   ]
  },
  {
   "cell_type": "code",
   "execution_count": 56,
   "metadata": {},
   "outputs": [
    {
     "name": "stdout",
     "output_type": "stream",
     "text": [
      "+-----------+--------------+----------------------+--------------+--------------+\n",
      "| cylinders | cylinders(3) | cylinders(4)         | cylinders(6) | cylinders(8) |\n",
      "+-----------+--------------+----------------------+--------------+--------------+\n",
      "| mpg(high) | 0.0          | 0.9583333333333334   | 0.25         | 0.0          |\n",
      "+-----------+--------------+----------------------+--------------+--------------+\n",
      "| mpg(low)  | 1.0          | 0.041666666666666664 | 0.75         | 1.0          |\n",
      "+-----------+--------------+----------------------+--------------+--------------+\n",
      "+--------------+----------+\n",
      "| cylinders(3) | 0.010101 |\n",
      "+--------------+----------+\n",
      "| cylinders(4) | 0.484848 |\n",
      "+--------------+----------+\n",
      "| cylinders(6) | 0.121212 |\n",
      "+--------------+----------+\n",
      "| cylinders(8) | 0.383838 |\n",
      "+--------------+----------+\n",
      "+--------------------+--------------+--------------+---------------------+--------------+\n",
      "| cylinders          | cylinders(3) | cylinders(4) | cylinders(6)        | cylinders(8) |\n",
      "+--------------------+--------------+--------------+---------------------+--------------+\n",
      "| displacement(high) | 0.0          | 0.0          | 0.9166666666666666  | 1.0          |\n",
      "+--------------------+--------------+--------------+---------------------+--------------+\n",
      "| displacement(low)  | 1.0          | 1.0          | 0.08333333333333333 | 0.0          |\n",
      "+--------------------+--------------+--------------+---------------------+--------------+\n",
      "+------------------+---------------------+----------+\n",
      "| mpg              | mpg(high)           | mpg(low) |\n",
      "+------------------+---------------------+----------+\n",
      "| horsepower(high) | 0.02040816326530612 | 0.9      |\n",
      "+------------------+---------------------+----------+\n",
      "| horsepower(low)  | 0.9795918367346939  | 0.1      |\n",
      "+------------------+---------------------+----------+\n",
      "+--------------+--------------+----------------------+--------------+--------------+\n",
      "| cylinders    | cylinders(3) | cylinders(4)         | cylinders(6) | cylinders(8) |\n",
      "+--------------+--------------+----------------------+--------------+--------------+\n",
      "| weight(high) | 0.0          | 0.041666666666666664 | 0.75         | 1.0          |\n",
      "+--------------+--------------+----------------------+--------------+--------------+\n",
      "| weight(low)  | 1.0          | 0.9583333333333334   | 0.25         | 0.0          |\n",
      "+--------------+--------------+----------------------+--------------+--------------+\n",
      "+--------------------+---------------------+---------------------+\n",
      "| horsepower         | horsepower(high)    | horsepower(low)     |\n",
      "+--------------------+---------------------+---------------------+\n",
      "| acceleration(high) | 0.15217391304347827 | 0.7547169811320755  |\n",
      "+--------------------+---------------------+---------------------+\n",
      "| acceleration(low)  | 0.8478260869565217  | 0.24528301886792453 |\n",
      "+--------------------+---------------------+---------------------+\n",
      "+----------------+---------------------+-------------------+\n",
      "| displacement   | displacement(high)  | displacement(low) |\n",
      "+----------------+---------------------+-------------------+\n",
      "| model year(70) | 0.42857142857142855 | 0.14              |\n",
      "+----------------+---------------------+-------------------+\n",
      "| model year(71) | 0.30612244897959184 | 0.24              |\n",
      "+----------------+---------------------+-------------------+\n",
      "| model year(72) | 0.2653061224489796  | 0.3               |\n",
      "+----------------+---------------------+-------------------+\n",
      "| model year(74) | 0.0                 | 0.3               |\n",
      "+----------------+---------------------+-------------------+\n",
      "| model year(75) | 0.0                 | 0.02              |\n",
      "+----------------+---------------------+-------------------+\n",
      "+--------------+--------------------+-------------------+\n",
      "| displacement | displacement(high) | displacement(low) |\n",
      "+--------------+--------------------+-------------------+\n",
      "| origin(1)    | 1.0                | 0.26              |\n",
      "+--------------+--------------------+-------------------+\n",
      "| origin(2)    | 0.0                | 0.38              |\n",
      "+--------------+--------------------+-------------------+\n",
      "| origin(3)    | 0.0                | 0.36              |\n",
      "+--------------+--------------------+-------------------+\n"
     ]
    },
    {
     "name": "stderr",
     "output_type": "stream",
     "text": [
      "c:\\Users\\Razi's good laptop\\AppData\\Local\\Programs\\Python\\Python39\\lib\\site-packages\\pgmpy\\models\\BayesianModel.py:8: FutureWarning: BayesianModel has been renamed to BayesianNetwork. Please use BayesianNetwork class, BayesianModel will be removed in future.\n",
      "  warnings.warn(\n"
     ]
    }
   ],
   "source": [
    "from pgmpy.estimators import MaximumLikelihoodEstimator\n",
    "from pgmpy.models import BayesianModel as bm\n",
    "mleModel = bm(bestBICHCmodel.edges())\n",
    "mle = MaximumLikelihoodEstimator(mleModel, data)\n",
    "\n",
    "from pgmpy.factors.discrete.CPD import TabularCPD\n",
    "#https://stackoverflow.com/questions/70625490/how-to-print-the-printing-full-cpd-from-pgmpy\n",
    "#credit for printing untruncated tables to console...\n",
    "def print_full(cpd):\n",
    "    backup = TabularCPD._truncate_strtable\n",
    "    TabularCPD._truncate_strtable = lambda self, x: x\n",
    "    print(cpd)\n",
    "    TabularCPD._truncate_strtable = backup\n",
    "\n",
    "for var in list(data.columns):\n",
    "    print_full(mle.estimate_cpd(var))"
   ]
  }
 ],
 "metadata": {
  "kernelspec": {
   "display_name": "Python 3",
   "language": "python",
   "name": "python3"
  },
  "language_info": {
   "codemirror_mode": {
    "name": "ipython",
    "version": 3
   },
   "file_extension": ".py",
   "mimetype": "text/x-python",
   "name": "python",
   "nbconvert_exporter": "python",
   "pygments_lexer": "ipython3",
   "version": "3.9.10"
  },
  "orig_nbformat": 4
 },
 "nbformat": 4,
 "nbformat_minor": 2
}
