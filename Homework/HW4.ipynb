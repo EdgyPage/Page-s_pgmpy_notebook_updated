{
 "cells": [
  {
   "cell_type": "code",
   "execution_count": 5,
   "metadata": {},
   "outputs": [],
   "source": [
    "import daft\n",
    "from daft import PGM\n",
    "import matplotlib.pyplot as plt\n",
    "\n",
    "pgm = PGM(shape=[3,4])"
   ]
  },
  {
   "cell_type": "code",
   "execution_count": 6,
   "metadata": {},
   "outputs": [
    {
     "data": {
      "text/plain": [
       "<function matplotlib.pyplot.show(close=None, block=None)>"
      ]
     },
     "execution_count": 6,
     "metadata": {},
     "output_type": "execute_result"
    },
    {
     "data": {
      "image/png": "[encoded data removed]",
      "text/plain": [
       "<Figure size 236.22x314.961 with 1 Axes>"
      ]
     },
     "metadata": {},
     "output_type": "display_data"
    }
   ],
   "source": [
    "pgm.add_node(daft.Node('D', 'Difficulty' ,1,4))\n",
    "pgm.add_node(daft.Node('I','Industrious', 3,4))\n",
    "pgm.add_node(daft.Node('G', 'Grade',2,2))\n",
    "pgm.add_node(daft.Node('S','SAT' ,3,3))\n",
    "pgm.add_node(daft.Node('L','Letter', 2,1))\n",
    "\n",
    "pgm.add_edge('D', 'G')\n",
    "pgm.add_edge('I', 'G')\n",
    "pgm.add_edge('I', 'S')\n",
    "pgm.add_edge('G', 'L')\n",
    "\n",
    "pgm.render()\n",
    "plt.show"
   ]
  },
  {
   "cell_type": "code",
   "execution_count": 7,
   "metadata": {},
   "outputs": [],
   "source": [
    "from pgmpy.models import BayesianNetwork\n",
    "from pgmpy.factors.discrete import TabularCPD as t\n",
    "model = BayesianNetwork([\n",
    "    ('Difficulty', 'Grade'),\n",
    "    ('Industriousness', 'Grade'),\n",
    "    ('Industriousness', 'SAT'),\n",
    "    ('Grade', 'Letter')])"
   ]
  },
  {
   "cell_type": "code",
   "execution_count": 8,
   "metadata": {},
   "outputs": [],
   "source": [
    "def cpd(variableName, variableCard, valueList, evidence = None, evidenceCard = None):\n",
    "    cpd = t(variable= variableName, variable_card=variableCard, \n",
    "            values=valueList, evidence= evidence, evidence_card=evidenceCard)\n",
    "    return cpd\n",
    "\n",
    "cpdDif = cpd('Difficulty', 2, [[.6],[.4]])\n",
    "cpdInd = cpd('Industriousness', 2, [[.7], [.3]])\n",
    "cpdSAT = cpd('SAT', 2, [[.95,.2], [.05, .8]], ['Industriousness'], [2])\n",
    "cpdGrd = cpd('Grade', 3, [[0.3, 0.05, 0.9,  0.5],\n",
    "                           [0.4, 0.25, 0.08, 0.3],\n",
    "                           [0.3, 0.7,  0.02, 0.2]], ['Industriousness', 'Difficulty'], [2,2])\n",
    "cpdLet = cpd('Letter', 2, [[0.1, 0.4, 0.99],\n",
    "                           [0.9, 0.6, 0.01]], ['Grade'], [3])"
   ]
  },
  {
   "cell_type": "code",
   "execution_count": 9,
   "metadata": {},
   "outputs": [
    {
     "data": {
      "text/plain": [
       "True"
      ]
     },
     "execution_count": 9,
     "metadata": {},
     "output_type": "execute_result"
    }
   ],
   "source": [
    "model.add_cpds(cpdDif, cpdInd, cpdSAT, cpdGrd, cpdLet)\n",
    "model.check_model()"
   ]
  }
 ],
 "metadata": {
  "kernelspec": {
   "display_name": "Python 3",
   "language": "python",
   "name": "python3"
  },
  "language_info": {
   "codemirror_mode": {
    "name": "ipython",
    "version": 3
   },
   "file_extension": ".py",
   "mimetype": "text/x-python",
   "name": "python",
   "nbconvert_exporter": "python",
   "pygments_lexer": "ipython3",
   "version": "3.9.10"
  },
  "orig_nbformat": 4
 },
 "nbformat": 4,
 "nbformat_minor": 2
}
