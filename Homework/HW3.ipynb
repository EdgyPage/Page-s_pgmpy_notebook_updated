{
 "cells": [
  {
   "cell_type": "code",
   "execution_count": 1,
   "metadata": {},
   "outputs": [
    {
     "name": "stderr",
     "output_type": "stream",
     "text": [
      "/usr/local/lib/python3.9/dist-packages/tqdm/auto.py:22: TqdmWarning: IProgress not found. Please update jupyter and ipywidgets. See https://ipywidgets.readthedocs.io/en/stable/user_install.html\n",
      "  from .autonotebook import tqdm as notebook_tqdm\n"
     ]
    }
   ],
   "source": [
    "from pgmpy.models import BayesianNetwork\n",
    "from pgmpy.factors.discrete import TabularCPD"
   ]
  },
  {
   "cell_type": "code",
   "execution_count": 5,
   "metadata": {},
   "outputs": [
    {
     "data": {
      "text/plain": [
       "True"
      ]
     },
     "execution_count": 5,
     "metadata": {},
     "output_type": "execute_result"
    }
   ],
   "source": [
    "model = BayesianNetwork([('A', 'B'), ('B', 'C')])\n",
    "cpd_a = TabularCPD(variable= 'A', variable_card= 2, values=[[.4], [.6]])\n",
    "cpd_b = TabularCPD(variable= 'B', variable_card=2, values= [[.3, .8],\n",
    "                                                            [.7, .2]], \n",
    "                                                    evidence=['A'],\n",
    "                                                    evidence_card=[2])\n",
    "cpd_c = TabularCPD(variable='C', variable_card=2, values= [[.9, .4], \n",
    "                                                           [.1, .6]],\n",
    "                                                    evidence= ['B'], \n",
    "                                                    evidence_card=[2])\n",
    "\n",
    "model.add_cpds(cpd_a, cpd_b, cpd_c)\n",
    "model.check_model()"
   ]
  },
  {
   "cell_type": "code",
   "execution_count": 8,
   "metadata": {},
   "outputs": [
    {
     "name": "stdout",
     "output_type": "stream",
     "text": [
      "+------+-----+\n",
      "| A(0) | 0.4 |\n",
      "+------+-----+\n",
      "| A(1) | 0.6 |\n",
      "+------+-----+\n",
      "+------+------+------+\n",
      "| A    | A(0) | A(1) |\n",
      "+------+------+------+\n",
      "| B(0) | 0.3  | 0.8  |\n",
      "+------+------+------+\n",
      "| B(1) | 0.7  | 0.2  |\n",
      "+------+------+------+\n",
      "+------+------+------+\n",
      "| B    | B(0) | B(1) |\n",
      "+------+------+------+\n",
      "| C(0) | 0.9  | 0.4  |\n",
      "+------+------+------+\n",
      "| C(1) | 0.1  | 0.6  |\n",
      "+------+------+------+\n"
     ]
    }
   ],
   "source": [
    "print(model.get_cpds('A'))\n",
    "print(model.get_cpds('B'))\n",
    "print(model.get_cpds('C'))"
   ]
  },
  {
   "cell_type": "code",
   "execution_count": 12,
   "metadata": {},
   "outputs": [],
   "source": [
    "from pgmpy.inference import VariableElimination\n",
    "variableElim = VariableElimination(model)"
   ]
  },
  {
   "cell_type": "code",
   "execution_count": 14,
   "metadata": {},
   "outputs": [
    {
     "name": "stderr",
     "output_type": "stream",
     "text": [
      "Eliminating: B: 100%|██████████| 2/2 [00:00<00:00, 823.14it/s]\n"
     ]
    },
    {
     "data": {
      "text/plain": [
       "0.7000000000000001"
      ]
     },
     "execution_count": 14,
     "metadata": {},
     "output_type": "execute_result"
    }
   ],
   "source": [
    "query = variableElim.query(variables=['C'], elimination_order=['A','B'])\n",
    "query.get_value(C=0)"
   ]
  },
  {
   "cell_type": "code",
   "execution_count": 17,
   "metadata": {},
   "outputs": [
    {
     "name": "stderr",
     "output_type": "stream",
     "text": [
      "Eliminating: B: 100%|██████████| 1/1 [00:00<00:00, 221.32it/s]\n"
     ]
    },
    {
     "data": {
      "text/plain": [
       "0.55"
      ]
     },
     "execution_count": 17,
     "metadata": {},
     "output_type": "execute_result"
    }
   ],
   "source": [
    "query = variableElim.query(variables=['C'], elimination_order=['B'], evidence={'A':0})\n",
    "query.get_value(C=0)"
   ]
  },
  {
   "cell_type": "code",
   "execution_count": 18,
   "metadata": {},
   "outputs": [
    {
     "name": "stderr",
     "output_type": "stream",
     "text": [
      "0it [00:00, ?it/s]\n"
     ]
    },
    {
     "data": {
      "text/plain": [
       "0.9"
      ]
     },
     "execution_count": 18,
     "metadata": {},
     "output_type": "execute_result"
    }
   ],
   "source": [
    "query = variableElim.query(variables=['C'], elimination_order=[], evidence={'A':0, 'B':0})\n",
    "query.get_value(C=0)"
   ]
  }
 ],
 "metadata": {
  "kernelspec": {
   "display_name": "Python 3",
   "language": "python",
   "name": "python3"
  },
  "language_info": {
   "codemirror_mode": {
    "name": "ipython",
    "version": 3
   },
   "file_extension": ".py",
   "mimetype": "text/x-python",
   "name": "python",
   "nbconvert_exporter": "python",
   "pygments_lexer": "ipython3",
   "version": "3.9.2"
  },
  "orig_nbformat": 4,
  "vscode": {
   "interpreter": {
    "hash": "916dbcbb3f70747c44a77c7bcd40155683ae19c65e1c03b4aa3499c5328201f1"
   }
  }
 },
 "nbformat": 4,
 "nbformat_minor": 2
}
