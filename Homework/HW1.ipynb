{
 "cells": [
  {
   "attachments": {},
   "cell_type": "markdown",
   "metadata": {},
   "source": [
    "PROBLEM 4"
   ]
  },
  {
   "cell_type": "code",
   "execution_count": 70,
   "metadata": {},
   "outputs": [],
   "source": [
    "from pgmpy.factors.discrete import JointProbabilityDistribution as JPD"
   ]
  },
  {
   "cell_type": "code",
   "execution_count": 71,
   "metadata": {},
   "outputs": [
    {
     "name": "stdout",
     "output_type": "stream",
     "text": [
      "+------+------+------+------+--------------+\n",
      "| A    | B    | C    | D    |   P(A,B,C,D) |\n",
      "+======+======+======+======+==============+\n",
      "| A(0) | B(0) | C(0) | D(0) |       0.0448 |\n",
      "+------+------+------+------+--------------+\n",
      "| A(0) | B(0) | C(0) | D(1) |       0.0252 |\n",
      "+------+------+------+------+--------------+\n",
      "| A(0) | B(0) | C(1) | D(0) |       0.0112 |\n",
      "+------+------+------+------+--------------+\n",
      "| A(0) | B(0) | C(1) | D(1) |       0.0588 |\n",
      "+------+------+------+------+--------------+\n",
      "| A(0) | B(1) | C(0) | D(0) |       0.0144 |\n",
      "+------+------+------+------+--------------+\n",
      "| A(0) | B(1) | C(0) | D(1) |       0.0144 |\n",
      "+------+------+------+------+--------------+\n",
      "| A(0) | B(1) | C(1) | D(0) |       0.0096 |\n",
      "+------+------+------+------+--------------+\n",
      "| A(0) | B(1) | C(1) | D(1) |       0.0216 |\n",
      "+------+------+------+------+--------------+\n",
      "| A(1) | B(0) | C(0) | D(0) |       0.1024 |\n",
      "+------+------+------+------+--------------+\n",
      "| A(1) | B(0) | C(0) | D(1) |       0.0576 |\n",
      "+------+------+------+------+--------------+\n",
      "| A(1) | B(0) | C(1) | D(0) |       0.0256 |\n",
      "+------+------+------+------+--------------+\n",
      "| A(1) | B(0) | C(1) | D(1) |       0.1344 |\n",
      "+------+------+------+------+--------------+\n",
      "| A(1) | B(1) | C(0) | D(0) |       0.1152 |\n",
      "+------+------+------+------+--------------+\n",
      "| A(1) | B(1) | C(0) | D(1) |       0.1152 |\n",
      "+------+------+------+------+--------------+\n",
      "| A(1) | B(1) | C(1) | D(0) |       0.0768 |\n",
      "+------+------+------+------+--------------+\n",
      "| A(1) | B(1) | C(1) | D(1) |       0.1728 |\n",
      "+------+------+------+------+--------------+\n"
     ]
    }
   ],
   "source": [
    "problem4j = JPD(['A', 'B', 'C', 'D'], [2,2,2,2], [.0448, .0252, .0112, .0588, .0144, \n",
    "                                                            .0144, .0096, .0216, .1024, .0576, \n",
    "                                                            .0256, .1344, .1152, .1152, .0768, .1728])\n",
    "print(problem4j)\n"
   ]
  },
  {
   "cell_type": "code",
   "execution_count": 72,
   "metadata": {},
   "outputs": [
    {
     "name": "stdout",
     "output_type": "stream",
     "text": [
      "False\n",
      "False\n",
      "True\n",
      "True\n",
      "False\n"
     ]
    }
   ],
   "source": [
    "print(problem4j.check_independence(['A'], ['B']))\n",
    "print(problem4j.check_independence(['A'], ['C']))\n",
    "print(problem4j.check_independence(['A'], ['C'], ('B',), condition_random_variable=True))\n",
    "print(problem4j.check_independence(['A'], ['D']))\n",
    "print(problem4j.check_independence(['A'], ['D'], ('C',), condition_random_variable=True))\n"
   ]
  },
  {
   "attachments": {},
   "cell_type": "markdown",
   "metadata": {},
   "source": [
    "Per code output:\n",
    "\n",
    "4a. F\n",
    "\n",
    "4b. F\n",
    "\n",
    "4c. T\n",
    "\n",
    "4d. T\n",
    "\n",
    "4e. F\n",
    "\n",
    "\n",
    "But I'm going to do some legwork to 'prove' these outputs.\n",
    "For two nodes A and B to be independent, P(A|B) = P(A) and P(B|A) = P(B).\n",
    "\n",
    "Bayes states P(B|A)P(A) = P(A,B), and so, using the above equalities, two events can be independent iff P(B)P(A) =  P(A,B). Showing this to be true using marginalized probabilities is sufficient for a,b, and d.\n",
    "\n",
    "I couldn't figure out c and e in time so ignore the following:\n",
    "\n",
    "For c and e, iff P(A,B|C) = P(A|C)P(B|C) then A,B are independent given C; also iff P(A|B,C) = P(A,B|C)/P(B|C) = P(A|C)P(B|C)/P(B|C) = P(A|C) where P(A|C) = P(A,C)/P(C). We show this by finding the marginal probability of C to find P(A,C) and P(B,C) to infer P(A|C) = P(A) and if P(B|C) = https://www.probabilitycourse.com/chapter1/1_4_4_conditional_independence.php"
   ]
  },
  {
   "cell_type": "code",
   "execution_count": 73,
   "metadata": {},
   "outputs": [
    {
     "name": "stdout",
     "output_type": "stream",
     "text": [
      "+------+------+----------+\n",
      "| A    | B    |   P(A,B) |\n",
      "+======+======+==========+\n",
      "| A(0) | B(0) |   0.1400 |\n",
      "+------+------+----------+\n",
      "| A(0) | B(1) |   0.0600 |\n",
      "+------+------+----------+\n",
      "| A(1) | B(0) |   0.3200 |\n",
      "+------+------+----------+\n",
      "| A(1) | B(1) |   0.4800 |\n",
      "+------+------+----------+\n",
      "+------+--------+\n",
      "| B    |   P(B) |\n",
      "+======+========+\n",
      "| B(0) | 0.4600 |\n",
      "+------+--------+\n",
      "| B(1) | 0.5400 |\n",
      "+------+--------+\n",
      "+------+--------+\n",
      "| A    |   P(A) |\n",
      "+======+========+\n",
      "| A(0) | 0.2000 |\n",
      "+------+--------+\n",
      "| A(1) | 0.8000 |\n",
      "+------+--------+\n"
     ]
    }
   ],
   "source": [
    "#4a.\n",
    "#We see that P(B)P(A) != P(A,B) so dependent  \n",
    "p = JPD(['A', 'B', 'C', 'D'], [2,2,2,2], [.0448, .0252, .0112, .0588, .0144, \n",
    "                                                            .0144, .0096, .0216, .1024, .0576, \n",
    "                                                            .0256, .1344, .1152, .1152, .0768, .1728])\n",
    "p.marginalize([\"D\", 'C'])\n",
    "print(p)\n",
    "\n",
    "p = JPD(['A', 'B', 'C', 'D'], [2,2,2,2], [.0448, .0252, .0112, .0588, .0144, \n",
    "                                                            .0144, .0096, .0216, .1024, .0576, \n",
    "                                                            .0256, .1344, .1152, .1152, .0768, .1728])\n",
    "p.marginalize(['A',\"D\", 'C'])\n",
    "print(p)\n",
    "\n",
    "p = JPD(['A', 'B', 'C', 'D'], [2,2,2,2], [.0448, .0252, .0112, .0588, .0144, \n",
    "                                                            .0144, .0096, .0216, .1024, .0576, \n",
    "                                                            .0256, .1344, .1152, .1152, .0768, .1728])\n",
    "p.marginalize(['B',\"D\", 'C'])\n",
    "print(p)\n"
   ]
  },
  {
   "cell_type": "code",
   "execution_count": 74,
   "metadata": {},
   "outputs": [
    {
     "name": "stdout",
     "output_type": "stream",
     "text": [
      "+------+------+----------+\n",
      "| A    | C    |   P(A,C) |\n",
      "+======+======+==========+\n",
      "| A(0) | C(0) |   0.0988 |\n",
      "+------+------+----------+\n",
      "| A(0) | C(1) |   0.1012 |\n",
      "+------+------+----------+\n",
      "| A(1) | C(0) |   0.3904 |\n",
      "+------+------+----------+\n",
      "| A(1) | C(1) |   0.4096 |\n",
      "+------+------+----------+\n",
      "+------+--------+\n",
      "| C    |   P(C) |\n",
      "+======+========+\n",
      "| C(0) | 0.4892 |\n",
      "+------+--------+\n",
      "| C(1) | 0.5108 |\n",
      "+------+--------+\n",
      "+------+--------+\n",
      "| A    |   P(A) |\n",
      "+======+========+\n",
      "| A(0) | 0.2000 |\n",
      "+------+--------+\n",
      "| A(1) | 0.8000 |\n",
      "+------+--------+\n"
     ]
    }
   ],
   "source": [
    "#4b.\n",
    "#We see that P(C)P(A) != P(A,C) so dependent  \n",
    "p = JPD(['A', 'B', 'C', 'D'], [2,2,2,2], [.0448, .0252, .0112, .0588, .0144, \n",
    "                                                            .0144, .0096, .0216, .1024, .0576, \n",
    "                                                            .0256, .1344, .1152, .1152, .0768, .1728])\n",
    "p.marginalize([\"D\", 'B'])\n",
    "print(p)\n",
    "\n",
    "p = JPD(['A', 'B', 'C', 'D'], [2,2,2,2], [.0448, .0252, .0112, .0588, .0144, \n",
    "                                                            .0144, .0096, .0216, .1024, .0576, \n",
    "                                                            .0256, .1344, .1152, .1152, .0768, .1728])\n",
    "p.marginalize(['A',\"D\", 'B'])\n",
    "print(p)\n",
    "\n",
    "p = JPD(['A', 'B', 'C', 'D'], [2,2,2,2], [.0448, .0252, .0112, .0588, .0144, \n",
    "                                                            .0144, .0096, .0216, .1024, .0576, \n",
    "                                                            .0256, .1344, .1152, .1152, .0768, .1728])\n",
    "p.marginalize(['B',\"D\", 'C'])\n",
    "print(p)\n"
   ]
  },
  {
   "cell_type": "code",
   "execution_count": 75,
   "metadata": {},
   "outputs": [
    {
     "name": "stdout",
     "output_type": "stream",
     "text": [
      "+------+------+----------+\n",
      "| A    | B    |   P(A,B) |\n",
      "+======+======+==========+\n",
      "| A(0) | B(0) |   0.1400 |\n",
      "+------+------+----------+\n",
      "| A(0) | B(1) |   0.0600 |\n",
      "+------+------+----------+\n",
      "| A(1) | B(0) |   0.3200 |\n",
      "+------+------+----------+\n",
      "| A(1) | B(1) |   0.4800 |\n",
      "+------+------+----------+\n",
      "+------+--------+\n",
      "| B    |   P(B) |\n",
      "+======+========+\n",
      "| B(0) | 0.4600 |\n",
      "+------+--------+\n",
      "| B(1) | 0.5400 |\n",
      "+------+--------+\n",
      "+------+--------+\n",
      "| A    |   P(A) |\n",
      "+======+========+\n",
      "| A(0) | 0.2000 |\n",
      "+------+--------+\n",
      "| A(1) | 0.8000 |\n",
      "+------+--------+\n"
     ]
    }
   ],
   "source": [
    "#4c.\n",
    "#We see that P(B)P(A) != P(A,B) so dependent  \n",
    "p = JPD(['A', 'B', 'C', 'D'], [2,2,2,2], [.0448, .0252, .0112, .0588, .0144, \n",
    "                                                            .0144, .0096, .0216, .1024, .0576, \n",
    "                                                            .0256, .1344, .1152, .1152, .0768, .1728])\n",
    "p.marginalize([\"D\", 'C'])\n",
    "print(p)\n",
    "\n",
    "p = JPD(['A', 'B', 'C', 'D'], [2,2,2,2], [.0448, .0252, .0112, .0588, .0144, \n",
    "                                                            .0144, .0096, .0216, .1024, .0576, \n",
    "                                                            .0256, .1344, .1152, .1152, .0768, .1728])\n",
    "p.marginalize(['A',\"D\", 'C'])\n",
    "print(p)\n",
    "\n",
    "p = JPD(['A', 'B', 'C', 'D'], [2,2,2,2], [.0448, .0252, .0112, .0588, .0144, \n",
    "                                                            .0144, .0096, .0216, .1024, .0576, \n",
    "                                                            .0256, .1344, .1152, .1152, .0768, .1728])\n",
    "p.marginalize(['B',\"D\", 'C'])\n",
    "print(p)\n"
   ]
  },
  {
   "attachments": {},
   "cell_type": "markdown",
   "metadata": {},
   "source": [
    "PROBLEM 5"
   ]
  },
  {
   "cell_type": "code",
   "execution_count": 76,
   "metadata": {},
   "outputs": [
    {
     "data": {
      "text/html": [
       "<div>\n",
       "<style scoped>\n",
       "    .dataframe tbody tr th:only-of-type {\n",
       "        vertical-align: middle;\n",
       "    }\n",
       "\n",
       "    .dataframe tbody tr th {\n",
       "        vertical-align: top;\n",
       "    }\n",
       "\n",
       "    .dataframe thead th {\n",
       "        text-align: right;\n",
       "    }\n",
       "</style>\n",
       "<table border=\"1\" class=\"dataframe\">\n",
       "  <thead>\n",
       "    <tr style=\"text-align: right;\">\n",
       "      <th></th>\n",
       "      <th>Outlook</th>\n",
       "      <th>Temp</th>\n",
       "      <th>Humidity</th>\n",
       "      <th>Windy</th>\n",
       "      <th>Play</th>\n",
       "    </tr>\n",
       "  </thead>\n",
       "  <tbody>\n",
       "    <tr>\n",
       "      <th>0</th>\n",
       "      <td>S</td>\n",
       "      <td>H</td>\n",
       "      <td>I</td>\n",
       "      <td>F</td>\n",
       "      <td>N</td>\n",
       "    </tr>\n",
       "    <tr>\n",
       "      <th>1</th>\n",
       "      <td>S</td>\n",
       "      <td>H</td>\n",
       "      <td>I</td>\n",
       "      <td>T</td>\n",
       "      <td>N</td>\n",
       "    </tr>\n",
       "    <tr>\n",
       "      <th>2</th>\n",
       "      <td>O</td>\n",
       "      <td>H</td>\n",
       "      <td>I</td>\n",
       "      <td>F</td>\n",
       "      <td>Y</td>\n",
       "    </tr>\n",
       "    <tr>\n",
       "      <th>3</th>\n",
       "      <td>R</td>\n",
       "      <td>M</td>\n",
       "      <td>I</td>\n",
       "      <td>F</td>\n",
       "      <td>Y</td>\n",
       "    </tr>\n",
       "    <tr>\n",
       "      <th>4</th>\n",
       "      <td>R</td>\n",
       "      <td>C</td>\n",
       "      <td>N</td>\n",
       "      <td>F</td>\n",
       "      <td>Y</td>\n",
       "    </tr>\n",
       "    <tr>\n",
       "      <th>5</th>\n",
       "      <td>R</td>\n",
       "      <td>C</td>\n",
       "      <td>N</td>\n",
       "      <td>T</td>\n",
       "      <td>N</td>\n",
       "    </tr>\n",
       "    <tr>\n",
       "      <th>6</th>\n",
       "      <td>O</td>\n",
       "      <td>C</td>\n",
       "      <td>N</td>\n",
       "      <td>T</td>\n",
       "      <td>Y</td>\n",
       "    </tr>\n",
       "    <tr>\n",
       "      <th>7</th>\n",
       "      <td>S</td>\n",
       "      <td>M</td>\n",
       "      <td>I</td>\n",
       "      <td>F</td>\n",
       "      <td>N</td>\n",
       "    </tr>\n",
       "    <tr>\n",
       "      <th>8</th>\n",
       "      <td>S</td>\n",
       "      <td>C</td>\n",
       "      <td>N</td>\n",
       "      <td>F</td>\n",
       "      <td>Y</td>\n",
       "    </tr>\n",
       "    <tr>\n",
       "      <th>9</th>\n",
       "      <td>R</td>\n",
       "      <td>M</td>\n",
       "      <td>N</td>\n",
       "      <td>F</td>\n",
       "      <td>Y</td>\n",
       "    </tr>\n",
       "    <tr>\n",
       "      <th>10</th>\n",
       "      <td>S</td>\n",
       "      <td>M</td>\n",
       "      <td>N</td>\n",
       "      <td>T</td>\n",
       "      <td>Y</td>\n",
       "    </tr>\n",
       "    <tr>\n",
       "      <th>11</th>\n",
       "      <td>O</td>\n",
       "      <td>M</td>\n",
       "      <td>I</td>\n",
       "      <td>T</td>\n",
       "      <td>Y</td>\n",
       "    </tr>\n",
       "    <tr>\n",
       "      <th>12</th>\n",
       "      <td>O</td>\n",
       "      <td>H</td>\n",
       "      <td>N</td>\n",
       "      <td>F</td>\n",
       "      <td>Y</td>\n",
       "    </tr>\n",
       "    <tr>\n",
       "      <th>13</th>\n",
       "      <td>R</td>\n",
       "      <td>M</td>\n",
       "      <td>I</td>\n",
       "      <td>T</td>\n",
       "      <td>N</td>\n",
       "    </tr>\n",
       "  </tbody>\n",
       "</table>\n",
       "</div>"
      ],
      "text/plain": [
       "   Outlook Temp Humidity Windy Play\n",
       "0        S    H        I     F    N\n",
       "1        S    H        I     T    N\n",
       "2        O    H        I     F    Y\n",
       "3        R    M        I     F    Y\n",
       "4        R    C        N     F    Y\n",
       "5        R    C        N     T    N\n",
       "6        O    C        N     T    Y\n",
       "7        S    M        I     F    N\n",
       "8        S    C        N     F    Y\n",
       "9        R    M        N     F    Y\n",
       "10       S    M        N     T    Y\n",
       "11       O    M        I     T    Y\n",
       "12       O    H        N     F    Y\n",
       "13       R    M        I     T    N"
      ]
     },
     "execution_count": 76,
     "metadata": {},
     "output_type": "execute_result"
    }
   ],
   "source": [
    "#5\n",
    "# Outlook: Sunny = 5/14, Overcast = 4/14, Rainy = 5/14\n",
    "# Temp: Hot = 4/14, Mild = 6/14, Cool = 4/14\n",
    "# Humidity: High = 7/14, Normal = 7/14\n",
    "# Windy: T = 6/14, F = 8/14\n",
    "# Play: Yes = 9/14, No = 5/14 \n",
    "\n",
    "import pandas as p\n",
    "\n",
    "dic = {'Outlook': ['S', 'S', 'O', 'R', 'R', 'R', 'O', 'S', 'S', 'R', 'S', 'O', 'O', 'R'],\n",
    "       'Temp':    ['H', 'H', 'H', 'M', 'C', 'C', 'C', 'M', 'C', 'M', 'M', 'M', 'H', 'M'],\n",
    "       'Humidity':['I', 'I', 'I', 'I', 'N', 'N', 'N', 'I', 'N', 'N', 'N', 'I', 'N', 'I'],\n",
    "       'Windy':   ['F', 'T', 'F', 'F', 'F', 'T', 'T', 'F', 'F', 'F', 'T', 'T', 'F', 'T'],\n",
    "       'Play':    ['N', 'N', 'Y', 'Y', 'Y', 'N', 'Y', 'N', 'Y', 'Y', 'Y', 'Y', 'Y', 'N']}\n",
    "\n",
    "\n",
    "#'Play':    ['N', 'N', 'Y', 'Y', 'Y', 'N', 'Y', 'N', 'Y', 'Y', 'Y', 'Y', 'Y', 'N']\n",
    "frame = p.DataFrame(dic)\n",
    "frame"
   ]
  },
  {
   "cell_type": "code",
   "execution_count": 77,
   "metadata": {},
   "outputs": [],
   "source": [
    "%%capture\n",
    "from sklearn import preprocessing\n",
    "le = preprocessing.LabelEncoder()\n",
    "\n",
    "convertFrame = p.DataFrame()\n",
    "\n",
    "#https://scikit-learn.org/dev/modules/generated/sklearn.preprocessing.LabelEncoder.html\n",
    "\n",
    "for key in frame.columns:\n",
    "    le.fit(frame[[key]])\n",
    "    array = le.transform(frame[[key]])\n",
    "    convertFrame[key] = array\n",
    "\n",
    "convertFrame"
   ]
  },
  {
   "attachments": {},
   "cell_type": "markdown",
   "metadata": {},
   "source": [
    "DECISION TREE OUTPUT"
   ]
  },
  {
   "cell_type": "code",
   "execution_count": 78,
   "metadata": {},
   "outputs": [
    {
     "name": "stdout",
     "output_type": "stream",
     "text": [
      "For conditions: \n",
      " [[1 0 1 1]\n",
      " [1 2 0 0]\n",
      " [2 1 0 1]]\n",
      "We predict: \n",
      " [1 0 0]\n"
     ]
    },
    {
     "data": {
      "text/plain": [
       "0.3333333333333333"
      ]
     },
     "execution_count": 78,
     "metadata": {},
     "output_type": "execute_result"
    }
   ],
   "source": [
    "from sklearn.tree import DecisionTreeClassifier\n",
    "from sklearn.model_selection import train_test_split\n",
    "\n",
    "x_train, x_test, y_train, y_test = train_test_split(convertFrame[['Outlook', 'Temp', 'Humidity', 'Windy']].values, convertFrame.Play.values, test_size=.2, random_state=1337)\n",
    "tree = DecisionTreeClassifier(max_depth=4)\n",
    "\n",
    "tree.fit(x_train, y_train)\n",
    "print(\"For conditions: \\n\" ,x_test)\n",
    "print(\"We predict: \\n\" , tree.predict(x_test))\n",
    "tree.score(x_test, y_test)\n",
    "\n",
    "#for 33% accuracy "
   ]
  },
  {
   "attachments": {},
   "cell_type": "markdown",
   "metadata": {},
   "source": [
    "MODEL BUILDING"
   ]
  },
  {
   "cell_type": "code",
   "execution_count": 79,
   "metadata": {},
   "outputs": [],
   "source": [
    "\n",
    "\n",
    "from pgmpy.models import BayesianNetwork\n",
    "from pgmpy.factors.discrete import TabularCPD\n",
    "\n",
    "\n",
    "\n",
    "model = BayesianNetwork([('Outlook', 'Play'), ('Outlook', 'Temp'), \n",
    "                         ('Temp', 'Play'), ('Windy', 'Humidity'),\n",
    "                         ('Humidity', 'Play')])\n",
    "\n",
    "#fits model to dataframe, columns must match names of nodes\n",
    "model.fit(frame)\n",
    "\n",
    "#print(model.get_cpds('Play'))\n",
    "#model.local_independencies(['Play', 'Outlook', 'Humidity', 'Windy', 'Temp'])"
   ]
  },
  {
   "cell_type": "code",
   "execution_count": 80,
   "metadata": {},
   "outputs": [
    {
     "data": {
      "text/plain": [
       "<function matplotlib.pyplot.show(close=None, block=None)>"
      ]
     },
     "execution_count": 80,
     "metadata": {},
     "output_type": "execute_result"
    },
    {
     "data": {
      "image/png": "[encoded data removed]",
      "text/plain": [
       "<Figure size 236.22x314.961 with 1 Axes>"
      ]
     },
     "metadata": {},
     "output_type": "display_data"
    }
   ],
   "source": [
    "import daft\n",
    "from daft import PGM\n",
    "import matplotlib.pyplot as plt\n",
    "\n",
    "pgm = PGM(shape=[3,4])\n",
    "\n",
    "\n",
    "pgm.add_node(daft.Node('P', 'Play', 2,1))\n",
    "pgm.add_node(daft.Node('H', 'Humidity', 3,2))\n",
    "pgm.add_node(daft.Node('T', 'Temp', 2,3))\n",
    "pgm.add_node(daft.Node('W', 'Windy', 3,3))\n",
    "pgm.add_node(daft.Node('O', 'Outlook', 1,4))\n",
    "\n",
    "pgm.add_edge('O', 'T')\n",
    "pgm.add_edge('O', 'P')\n",
    "pgm.add_edge('T', 'P')\n",
    "pgm.add_edge('W', 'H')\n",
    "pgm.add_edge('H', 'P')\n",
    "\n",
    "pgm.render()\n",
    "plt.show\n"
   ]
  },
  {
   "cell_type": "code",
   "execution_count": 81,
   "metadata": {},
   "outputs": [
    {
     "name": "stdout",
     "output_type": "stream",
     "text": [
      "[[1 0 1 1 0]\n",
      " [1 2 0 0 1]\n",
      " [2 1 0 1 0]]\n",
      "    Outlook  Temp  Humidity  Windy  Play\n",
      "0         2     1         0      0     0\n",
      "1         2     1         0      1     0\n",
      "2         0     1         0      0     1\n",
      "3         1     2         0      0     1\n",
      "4         1     0         1      0     1\n",
      "5         1     0         1      1     0\n",
      "6         0     0         1      1     1\n",
      "7         2     2         0      0     0\n",
      "8         2     0         1      0     1\n",
      "9         1     2         1      0     1\n",
      "10        2     2         1      1     1\n",
      "11        0     2         0      1     1\n",
      "12        0     1         1      0     1\n",
      "13        1     2         0      1     0\n"
     ]
    }
   ],
   "source": [
    "import numpy as np\n",
    "print( np.concatenate((x_test, np.reshape(y_test, (3,1))), axis=1))\n",
    "print(convertFrame)\n"
   ]
  },
  {
   "cell_type": "code",
   "execution_count": 82,
   "metadata": {},
   "outputs": [
    {
     "name": "stdout",
     "output_type": "stream",
     "text": [
      "   Outlook Temp Humidity Windy Play\n",
      "0        S    H        I     F    N\n",
      "1        S    H        I     T    N\n",
      "2        O    H        I     F    Y\n",
      "3        R    M        I     F    Y\n",
      "4        R    C        N     F    Y\n",
      "5        R    C        N     T    N\n",
      "6        O    C        N     T    Y\n",
      "7        S    M        I     F    N\n",
      "8        S    C        N     F    Y\n",
      "9        R    M        N     F    Y\n",
      "10       S    M        N     T    Y\n",
      "11       O    M        I     T    Y\n",
      "12       O    H        N     F    Y\n",
      "13       R    M        I     T    N\n"
     ]
    }
   ],
   "source": [
    "print(frame) "
   ]
  },
  {
   "attachments": {},
   "cell_type": "markdown",
   "metadata": {},
   "source": [
    "We see by visual inspection (BAD) that our indexes align with rows 1, 3, 5 in our original frame. So we use those data to feed our MAP query."
   ]
  },
  {
   "cell_type": "code",
   "execution_count": 83,
   "metadata": {},
   "outputs": [
    {
     "name": "stderr",
     "output_type": "stream",
     "text": [
      "Finding Elimination Order: : : 0it [00:00, ?it/s]\n",
      "0it [00:00, ?it/s]\n"
     ]
    },
    {
     "name": "stdout",
     "output_type": "stream",
     "text": [
      "{'Play': 'N'}\n"
     ]
    },
    {
     "name": "stderr",
     "output_type": "stream",
     "text": [
      "Finding Elimination Order: : : 0it [00:00, ?it/s]\n",
      "0it [00:00, ?it/s]\n"
     ]
    },
    {
     "name": "stdout",
     "output_type": "stream",
     "text": [
      "{'Play': 'N'}\n"
     ]
    },
    {
     "name": "stderr",
     "output_type": "stream",
     "text": [
      "Finding Elimination Order: : : 0it [00:00, ?it/s]\n",
      "0it [00:00, ?it/s]"
     ]
    },
    {
     "name": "stdout",
     "output_type": "stream",
     "text": [
      "{'Play': 'N'}\n"
     ]
    },
    {
     "name": "stderr",
     "output_type": "stream",
     "text": [
      "\n"
     ]
    }
   ],
   "source": [
    "from pgmpy.inference import VariableElimination\n",
    "infer = VariableElimination(model)\n",
    "\n",
    "print(infer.map_query(['Play'], evidence={'Outlook': 'S', 'Temp': 'H', 'Humidity':'I', 'Windy' :'T'}))\n",
    "print(infer.map_query(['Play'], evidence={'Outlook': 'R', 'Temp': 'M', 'Humidity':'I', 'Windy' :'F'}))\n",
    "print(infer.map_query(['Play'], evidence={'Outlook': 'R', 'Temp': 'C', 'Humidity':'N', 'Windy' :'T'}))\n"
   ]
  },
  {
   "attachments": {},
   "cell_type": "markdown",
   "metadata": {},
   "source": [
    "We get an accuracy of 66%, so the Bayes net performed better than our decision tree! "
   ]
  },
  {
   "cell_type": "code",
   "execution_count": 84,
   "metadata": {},
   "outputs": [
    {
     "name": "stdout",
     "output_type": "stream",
     "text": [
      "+---------+-------------+\n",
      "| Play    |   phi(Play) |\n",
      "+=========+=============+\n",
      "| Play(N) |      1.0000 |\n",
      "+---------+-------------+\n",
      "| Play(Y) |      0.0000 |\n",
      "+---------+-------------+\n",
      "+---------+-------------+\n",
      "| Play    |   phi(Play) |\n",
      "+=========+=============+\n",
      "| Play(N) |      0.5000 |\n",
      "+---------+-------------+\n",
      "| Play(Y) |      0.5000 |\n",
      "+---------+-------------+\n",
      "+---------+-------------+\n",
      "| Play    |   phi(Play) |\n",
      "+=========+=============+\n",
      "| Play(N) |      0.5000 |\n",
      "+---------+-------------+\n",
      "| Play(Y) |      0.5000 |\n",
      "+---------+-------------+\n"
     ]
    }
   ],
   "source": [
    "print(infer.query(['Play'], evidence= {'Outlook': 'S', 'Temp': 'H', 'Humidity':'I', 'Windy' :'T'}))\n",
    "print(infer.query(['Play'], evidence={'Outlook': 'R', 'Temp': 'M', 'Humidity':'I', 'Windy' :'F'}))\n",
    "print(infer.query(['Play'], evidence={'Outlook': 'R', 'Temp': 'C', 'Humidity':'N', 'Windy' :'T'}))"
   ]
  },
  {
   "attachments": {},
   "cell_type": "markdown",
   "metadata": {},
   "source": [
    "We see above the probability distributions of the test set."
   ]
  }
 ],
 "metadata": {
  "kernelspec": {
   "display_name": "Python 3",
   "language": "python",
   "name": "python3"
  },
  "language_info": {
   "codemirror_mode": {
    "name": "ipython",
    "version": 3
   },
   "file_extension": ".py",
   "mimetype": "text/x-python",
   "name": "python",
   "nbconvert_exporter": "python",
   "pygments_lexer": "ipython3",
   "version": "3.9.10"
  },
  "orig_nbformat": 4,
  "vscode": {
   "interpreter": {
    "hash": "478549c9fc2149c5070e823c32ebf2f192805b882630a23e652e022c51a3ad72"
   }
  }
 },
 "nbformat": 4,
 "nbformat_minor": 2
}
