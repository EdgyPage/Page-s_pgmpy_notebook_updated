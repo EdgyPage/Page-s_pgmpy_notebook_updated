{
 "cells": [
  {
   "cell_type": "code",
   "execution_count": 1,
   "metadata": {},
   "outputs": [
    {
     "name": "stderr",
     "output_type": "stream",
     "text": [
      "/usr/local/lib/python3.9/dist-packages/tqdm/auto.py:22: TqdmWarning: IProgress not found. Please update jupyter and ipywidgets. See https://ipywidgets.readthedocs.io/en/stable/user_install.html\n",
      "  from .autonotebook import tqdm as notebook_tqdm\n"
     ]
    }
   ],
   "source": [
    "from pgmpy.factors.discrete import JointProbabilityDistribution as JPD"
   ]
  },
  {
   "cell_type": "code",
   "execution_count": 2,
   "metadata": {},
   "outputs": [
    {
     "name": "stdout",
     "output_type": "stream",
     "text": [
      "+------+------+------+------+--------------+\n",
      "| A    | B    | C    | D    |   P(A,B,C,D) |\n",
      "+======+======+======+======+==============+\n",
      "| A(0) | B(0) | C(0) | D(0) |       0.0448 |\n",
      "+------+------+------+------+--------------+\n",
      "| A(0) | B(0) | C(0) | D(1) |       0.0252 |\n",
      "+------+------+------+------+--------------+\n",
      "| A(0) | B(0) | C(1) | D(0) |       0.0112 |\n",
      "+------+------+------+------+--------------+\n",
      "| A(0) | B(0) | C(1) | D(1) |       0.0588 |\n",
      "+------+------+------+------+--------------+\n",
      "| A(0) | B(1) | C(0) | D(0) |       0.0144 |\n",
      "+------+------+------+------+--------------+\n",
      "| A(0) | B(1) | C(0) | D(1) |       0.0144 |\n",
      "+------+------+------+------+--------------+\n",
      "| A(0) | B(1) | C(1) | D(0) |       0.0096 |\n",
      "+------+------+------+------+--------------+\n",
      "| A(0) | B(1) | C(1) | D(1) |       0.0216 |\n",
      "+------+------+------+------+--------------+\n",
      "| A(1) | B(0) | C(0) | D(0) |       0.1024 |\n",
      "+------+------+------+------+--------------+\n",
      "| A(1) | B(0) | C(0) | D(1) |       0.0576 |\n",
      "+------+------+------+------+--------------+\n",
      "| A(1) | B(0) | C(1) | D(0) |       0.0256 |\n",
      "+------+------+------+------+--------------+\n",
      "| A(1) | B(0) | C(1) | D(1) |       0.1344 |\n",
      "+------+------+------+------+--------------+\n",
      "| A(1) | B(1) | C(0) | D(0) |       0.1152 |\n",
      "+------+------+------+------+--------------+\n",
      "| A(1) | B(1) | C(0) | D(1) |       0.1152 |\n",
      "+------+------+------+------+--------------+\n",
      "| A(1) | B(1) | C(1) | D(0) |       0.0768 |\n",
      "+------+------+------+------+--------------+\n",
      "| A(1) | B(1) | C(1) | D(1) |       0.1728 |\n",
      "+------+------+------+------+--------------+\n"
     ]
    }
   ],
   "source": [
    "problem4j = JPD(['A', 'B', 'C', 'D'], [2,2,2,2], [.0448, .0252, .0112, .0588, .0144, \n",
    "                                                            .0144, .0096, .0216, .1024, .0576, \n",
    "                                                            .0256, .1344, .1152, .1152, .0768, .1728])\n",
    "print(problem4j)\n"
   ]
  },
  {
   "cell_type": "code",
   "execution_count": 5,
   "metadata": {},
   "outputs": [
    {
     "name": "stdout",
     "output_type": "stream",
     "text": [
      "False\n",
      "False\n",
      "True\n",
      "True\n",
      "False\n"
     ]
    }
   ],
   "source": [
    "print(problem4j.check_independence(['A'], ['B']))\n",
    "print(problem4j.check_independence(['A'], ['C']))\n",
    "print(problem4j.check_independence(['A'], ['C'], ('B',), condition_random_variable=True))\n",
    "print(problem4j.check_independence(['A'], ['D']))\n",
    "print(problem4j.check_independence(['A'], ['D'], ('C',), condition_random_variable=True))\n"
   ]
  },
  {
   "attachments": {},
   "cell_type": "markdown",
   "metadata": {},
   "source": [
    "Per code output:\n",
    "4a. F\n",
    "4b. F\n",
    "4c. T\n",
    "4d. T\n",
    "4e. F\n",
    "\n",
    "But I'm going to do some legwork to 'prove' these outputs.\n",
    "For two nodes A and B to be independent, P(A|B) = P(A) and P(B|A) = P(B).\n",
    "\n",
    "Bayes states P(B|A)P(A) = P(A,B), and so, using the above equalities, two events can be independent iff P(B)P(A) =  P(A,B). Showing this to be true using marginalized probabilities is sufficient for a,b, and d.\n",
    "\n",
    "For c and e, iff P(A,B|C) = P(A|C)P(B|C) then A,B are independent given C; also iff P(A|B,C) = P(A,B|C)/P(B|C) = P(A|C)P(B|C)/P(B|C) = P(A|C) where P(A|C) = P(A,C)/P(C). We show this by finding the marginal probability of C to find P(A,C) and P(B,C) to infer P(A|C) = P(A) and if P(B|C) = https://www.probabilitycourse.com/chapter1/1_4_4_conditional_independence.php"
   ]
  },
  {
   "cell_type": "code",
   "execution_count": 9,
   "metadata": {},
   "outputs": [
    {
     "name": "stdout",
     "output_type": "stream",
     "text": [
      "+------+------+----------+\n",
      "| A    | B    |   P(A,B) |\n",
      "+======+======+==========+\n",
      "| A(0) | B(0) |   0.1400 |\n",
      "+------+------+----------+\n",
      "| A(0) | B(1) |   0.0600 |\n",
      "+------+------+----------+\n",
      "| A(1) | B(0) |   0.3200 |\n",
      "+------+------+----------+\n",
      "| A(1) | B(1) |   0.4800 |\n",
      "+------+------+----------+\n",
      "+------+--------+\n",
      "| B    |   P(B) |\n",
      "+======+========+\n",
      "| B(0) | 0.4600 |\n",
      "+------+--------+\n",
      "| B(1) | 0.5400 |\n",
      "+------+--------+\n",
      "+------+--------+\n",
      "| A    |   P(A) |\n",
      "+======+========+\n",
      "| A(0) | 0.2000 |\n",
      "+------+--------+\n",
      "| A(1) | 0.8000 |\n",
      "+------+--------+\n"
     ]
    }
   ],
   "source": [
    "#4a.\n",
    "#We see that P(B)P(A) != P(A,B) so dependent  \n",
    "p = JPD(['A', 'B', 'C', 'D'], [2,2,2,2], [.0448, .0252, .0112, .0588, .0144, \n",
    "                                                            .0144, .0096, .0216, .1024, .0576, \n",
    "                                                            .0256, .1344, .1152, .1152, .0768, .1728])\n",
    "p.marginalize([\"D\", 'C'])\n",
    "print(p)\n",
    "\n",
    "p = JPD(['A', 'B', 'C', 'D'], [2,2,2,2], [.0448, .0252, .0112, .0588, .0144, \n",
    "                                                            .0144, .0096, .0216, .1024, .0576, \n",
    "                                                            .0256, .1344, .1152, .1152, .0768, .1728])\n",
    "p.marginalize(['A',\"D\", 'C'])\n",
    "print(p)\n",
    "\n",
    "p = JPD(['A', 'B', 'C', 'D'], [2,2,2,2], [.0448, .0252, .0112, .0588, .0144, \n",
    "                                                            .0144, .0096, .0216, .1024, .0576, \n",
    "                                                            .0256, .1344, .1152, .1152, .0768, .1728])\n",
    "p.marginalize(['B',\"D\", 'C'])\n",
    "print(p)\n"
   ]
  },
  {
   "cell_type": "code",
   "execution_count": 11,
   "metadata": {},
   "outputs": [
    {
     "name": "stdout",
     "output_type": "stream",
     "text": [
      "+------+------+----------+\n",
      "| A    | C    |   P(A,C) |\n",
      "+======+======+==========+\n",
      "| A(0) | C(0) |   0.0988 |\n",
      "+------+------+----------+\n",
      "| A(0) | C(1) |   0.1012 |\n",
      "+------+------+----------+\n",
      "| A(1) | C(0) |   0.3904 |\n",
      "+------+------+----------+\n",
      "| A(1) | C(1) |   0.4096 |\n",
      "+------+------+----------+\n",
      "+------+--------+\n",
      "| C    |   P(C) |\n",
      "+======+========+\n",
      "| C(0) | 0.4892 |\n",
      "+------+--------+\n",
      "| C(1) | 0.5108 |\n",
      "+------+--------+\n",
      "+------+--------+\n",
      "| A    |   P(A) |\n",
      "+======+========+\n",
      "| A(0) | 0.2000 |\n",
      "+------+--------+\n",
      "| A(1) | 0.8000 |\n",
      "+------+--------+\n"
     ]
    }
   ],
   "source": [
    "#4b.\n",
    "#We see that P(C)P(A) != P(A,C) so dependent  \n",
    "p = JPD(['A', 'B', 'C', 'D'], [2,2,2,2], [.0448, .0252, .0112, .0588, .0144, \n",
    "                                                            .0144, .0096, .0216, .1024, .0576, \n",
    "                                                            .0256, .1344, .1152, .1152, .0768, .1728])\n",
    "p.marginalize([\"D\", 'B'])\n",
    "print(p)\n",
    "\n",
    "p = JPD(['A', 'B', 'C', 'D'], [2,2,2,2], [.0448, .0252, .0112, .0588, .0144, \n",
    "                                                            .0144, .0096, .0216, .1024, .0576, \n",
    "                                                            .0256, .1344, .1152, .1152, .0768, .1728])\n",
    "p.marginalize(['A',\"D\", 'B'])\n",
    "print(p)\n",
    "\n",
    "p = JPD(['A', 'B', 'C', 'D'], [2,2,2,2], [.0448, .0252, .0112, .0588, .0144, \n",
    "                                                            .0144, .0096, .0216, .1024, .0576, \n",
    "                                                            .0256, .1344, .1152, .1152, .0768, .1728])\n",
    "p.marginalize(['B',\"D\", 'C'])\n",
    "print(p)\n"
   ]
  },
  {
   "cell_type": "code",
   "execution_count": null,
   "metadata": {},
   "outputs": [
    {
     "name": "stdout",
     "output_type": "stream",
     "text": [
      "+------+------+----------+\n",
      "| A    | B    |   P(A,B) |\n",
      "+======+======+==========+\n",
      "| A(0) | B(0) |   0.1400 |\n",
      "+------+------+----------+\n",
      "| A(0) | B(1) |   0.0600 |\n",
      "+------+------+----------+\n",
      "| A(1) | B(0) |   0.3200 |\n",
      "+------+------+----------+\n",
      "| A(1) | B(1) |   0.4800 |\n",
      "+------+------+----------+\n",
      "+------+--------+\n",
      "| B    |   P(B) |\n",
      "+======+========+\n",
      "| B(0) | 0.4600 |\n",
      "+------+--------+\n",
      "| B(1) | 0.5400 |\n",
      "+------+--------+\n",
      "+------+--------+\n",
      "| A    |   P(A) |\n",
      "+======+========+\n",
      "| A(0) | 0.2000 |\n",
      "+------+--------+\n",
      "| A(1) | 0.8000 |\n",
      "+------+--------+\n"
     ]
    }
   ],
   "source": [
    "#4c.\n",
    "#We see that P(B)P(A) != P(A,B) so dependent  \n",
    "p = JPD(['A', 'B', 'C', 'D'], [2,2,2,2], [.0448, .0252, .0112, .0588, .0144, \n",
    "                                                            .0144, .0096, .0216, .1024, .0576, \n",
    "                                                            .0256, .1344, .1152, .1152, .0768, .1728])\n",
    "p.marginalize([\"D\", 'C'])\n",
    "print(p)\n",
    "\n",
    "p = JPD(['A', 'B', 'C', 'D'], [2,2,2,2], [.0448, .0252, .0112, .0588, .0144, \n",
    "                                                            .0144, .0096, .0216, .1024, .0576, \n",
    "                                                            .0256, .1344, .1152, .1152, .0768, .1728])\n",
    "p.marginalize(['A',\"D\", 'C'])\n",
    "print(p)\n",
    "\n",
    "p = JPD(['A', 'B', 'C', 'D'], [2,2,2,2], [.0448, .0252, .0112, .0588, .0144, \n",
    "                                                            .0144, .0096, .0216, .1024, .0576, \n",
    "                                                            .0256, .1344, .1152, .1152, .0768, .1728])\n",
    "p.marginalize(['B',\"D\", 'C'])\n",
    "print(p)\n"
   ]
  },
  {
   "cell_type": "code",
   "execution_count": null,
   "metadata": {},
   "outputs": [],
   "source": []
  }
 ],
 "metadata": {
  "kernelspec": {
   "display_name": "Python 3",
   "language": "python",
   "name": "python3"
  },
  "language_info": {
   "codemirror_mode": {
    "name": "ipython",
    "version": 3
   },
   "file_extension": ".py",
   "mimetype": "text/x-python",
   "name": "python",
   "nbconvert_exporter": "python",
   "pygments_lexer": "ipython3",
   "version": "3.9.2"
  },
  "orig_nbformat": 4,
  "vscode": {
   "interpreter": {
    "hash": "916dbcbb3f70747c44a77c7bcd40155683ae19c65e1c03b4aa3499c5328201f1"
   }
  }
 },
 "nbformat": 4,
 "nbformat_minor": 2
}
