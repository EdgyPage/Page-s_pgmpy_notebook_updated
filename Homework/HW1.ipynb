{
 "cells": [
  {
   "cell_type": "code",
   "execution_count": 1,
   "metadata": {},
   "outputs": [
    {
     "name": "stderr",
     "output_type": "stream",
     "text": [
      "/usr/local/lib/python3.9/dist-packages/tqdm/auto.py:22: TqdmWarning: IProgress not found. Please update jupyter and ipywidgets. See https://ipywidgets.readthedocs.io/en/stable/user_install.html\n",
      "  from .autonotebook import tqdm as notebook_tqdm\n"
     ]
    }
   ],
   "source": [
    "from pgmpy.factors.discrete import JointProbabilityDistribution as JPD"
   ]
  },
  {
   "cell_type": "code",
   "execution_count": 2,
   "metadata": {},
   "outputs": [
    {
     "name": "stdout",
     "output_type": "stream",
     "text": [
      "+------+------+------+------+--------------+\n",
      "| A    | B    | C    | D    |   P(A,B,C,D) |\n",
      "+======+======+======+======+==============+\n",
      "| A(0) | B(0) | C(0) | D(0) |       0.0448 |\n",
      "+------+------+------+------+--------------+\n",
      "| A(0) | B(0) | C(0) | D(1) |       0.0252 |\n",
      "+------+------+------+------+--------------+\n",
      "| A(0) | B(0) | C(1) | D(0) |       0.0112 |\n",
      "+------+------+------+------+--------------+\n",
      "| A(0) | B(0) | C(1) | D(1) |       0.0588 |\n",
      "+------+------+------+------+--------------+\n",
      "| A(0) | B(1) | C(0) | D(0) |       0.0144 |\n",
      "+------+------+------+------+--------------+\n",
      "| A(0) | B(1) | C(0) | D(1) |       0.0144 |\n",
      "+------+------+------+------+--------------+\n",
      "| A(0) | B(1) | C(1) | D(0) |       0.0096 |\n",
      "+------+------+------+------+--------------+\n",
      "| A(0) | B(1) | C(1) | D(1) |       0.0216 |\n",
      "+------+------+------+------+--------------+\n",
      "| A(1) | B(0) | C(0) | D(0) |       0.1024 |\n",
      "+------+------+------+------+--------------+\n",
      "| A(1) | B(0) | C(0) | D(1) |       0.0576 |\n",
      "+------+------+------+------+--------------+\n",
      "| A(1) | B(0) | C(1) | D(0) |       0.0256 |\n",
      "+------+------+------+------+--------------+\n",
      "| A(1) | B(0) | C(1) | D(1) |       0.1344 |\n",
      "+------+------+------+------+--------------+\n",
      "| A(1) | B(1) | C(0) | D(0) |       0.1152 |\n",
      "+------+------+------+------+--------------+\n",
      "| A(1) | B(1) | C(0) | D(1) |       0.1152 |\n",
      "+------+------+------+------+--------------+\n",
      "| A(1) | B(1) | C(1) | D(0) |       0.0768 |\n",
      "+------+------+------+------+--------------+\n",
      "| A(1) | B(1) | C(1) | D(1) |       0.1728 |\n",
      "+------+------+------+------+--------------+\n"
     ]
    }
   ],
   "source": [
    "problem4j = JPD(['A', 'B', 'C', 'D'], [2,2,2,2], [.0448, .0252, .0112, .0588, .0144, \n",
    "                                                            .0144, .0096, .0216, .1024, .0576, \n",
    "                                                            .0256, .1344, .1152, .1152, .0768, .1728])\n",
    "print(problem4j)\n"
   ]
  },
  {
   "cell_type": "code",
   "execution_count": 5,
   "metadata": {},
   "outputs": [
    {
     "name": "stdout",
     "output_type": "stream",
     "text": [
      "False\n",
      "False\n",
      "True\n",
      "True\n",
      "False\n"
     ]
    }
   ],
   "source": [
    "print(problem4j.check_independence(['A'], ['B']))\n",
    "print(problem4j.check_independence(['A'], ['C']))\n",
    "print(problem4j.check_independence(['A'], ['C'], ('B',), condition_random_variable=True))\n",
    "print(problem4j.check_independence(['A'], ['D']))\n",
    "print(problem4j.check_independence(['A'], ['D'], ('C',), condition_random_variable=True))\n"
   ]
  },
  {
   "attachments": {},
   "cell_type": "markdown",
   "metadata": {},
   "source": [
    "Per code output:\n",
    "4a. F\n",
    "4b. F\n",
    "4c. T\n",
    "4d. T\n",
    "4e. F\n",
    "\n",
    "But I'm going to do some legwork to 'prove' these outputs.\n",
    "For two nodes A and B to be independent, P(A|B) = P(A) and P(B|A) = P(B).\n",
    "\n",
    "Bayes states P(B|A)P(A) = P(A,B), and so, using the above equalities, two events can be independent iff P(B)P(A) =  P(A,B). Showing this to be true using marginalized probabilities is sufficient for a,b, and d.\n",
    "\n",
    "For c and e, iff P(A,B|C) = P(A|C)P(B|C) then A,B are independent given C; also iff P(A|B,C) = P(A,B|C)/P(B|C) = P(A|C)P(B|C)/P(B|C) = P(A|C) where P(A|C) = P(A,C)/P(C). We show this by finding the marginal probability of C to find P(A,C) and P(B,C) to infer P(A|C) = P(A) and if P(B|C) = https://www.probabilitycourse.com/chapter1/1_4_4_conditional_independence.php"
   ]
  },
  {
   "cell_type": "code",
   "execution_count": 9,
   "metadata": {},
   "outputs": [
    {
     "name": "stdout",
     "output_type": "stream",
     "text": [
      "+------+------+----------+\n",
      "| A    | B    |   P(A,B) |\n",
      "+======+======+==========+\n",
      "| A(0) | B(0) |   0.1400 |\n",
      "+------+------+----------+\n",
      "| A(0) | B(1) |   0.0600 |\n",
      "+------+------+----------+\n",
      "| A(1) | B(0) |   0.3200 |\n",
      "+------+------+----------+\n",
      "| A(1) | B(1) |   0.4800 |\n",
      "+------+------+----------+\n",
      "+------+--------+\n",
      "| B    |   P(B) |\n",
      "+======+========+\n",
      "| B(0) | 0.4600 |\n",
      "+------+--------+\n",
      "| B(1) | 0.5400 |\n",
      "+------+--------+\n",
      "+------+--------+\n",
      "| A    |   P(A) |\n",
      "+======+========+\n",
      "| A(0) | 0.2000 |\n",
      "+------+--------+\n",
      "| A(1) | 0.8000 |\n",
      "+------+--------+\n"
     ]
    }
   ],
   "source": [
    "#4a.\n",
    "#We see that P(B)P(A) != P(A,B) so dependent  \n",
    "p = JPD(['A', 'B', 'C', 'D'], [2,2,2,2], [.0448, .0252, .0112, .0588, .0144, \n",
    "                                                            .0144, .0096, .0216, .1024, .0576, \n",
    "                                                            .0256, .1344, .1152, .1152, .0768, .1728])\n",
    "p.marginalize([\"D\", 'C'])\n",
    "print(p)\n",
    "\n",
    "p = JPD(['A', 'B', 'C', 'D'], [2,2,2,2], [.0448, .0252, .0112, .0588, .0144, \n",
    "                                                            .0144, .0096, .0216, .1024, .0576, \n",
    "                                                            .0256, .1344, .1152, .1152, .0768, .1728])\n",
    "p.marginalize(['A',\"D\", 'C'])\n",
    "print(p)\n",
    "\n",
    "p = JPD(['A', 'B', 'C', 'D'], [2,2,2,2], [.0448, .0252, .0112, .0588, .0144, \n",
    "                                                            .0144, .0096, .0216, .1024, .0576, \n",
    "                                                            .0256, .1344, .1152, .1152, .0768, .1728])\n",
    "p.marginalize(['B',\"D\", 'C'])\n",
    "print(p)\n"
   ]
  },
  {
   "cell_type": "code",
   "execution_count": 11,
   "metadata": {},
   "outputs": [
    {
     "name": "stdout",
     "output_type": "stream",
     "text": [
      "+------+------+----------+\n",
      "| A    | C    |   P(A,C) |\n",
      "+======+======+==========+\n",
      "| A(0) | C(0) |   0.0988 |\n",
      "+------+------+----------+\n",
      "| A(0) | C(1) |   0.1012 |\n",
      "+------+------+----------+\n",
      "| A(1) | C(0) |   0.3904 |\n",
      "+------+------+----------+\n",
      "| A(1) | C(1) |   0.4096 |\n",
      "+------+------+----------+\n",
      "+------+--------+\n",
      "| C    |   P(C) |\n",
      "+======+========+\n",
      "| C(0) | 0.4892 |\n",
      "+------+--------+\n",
      "| C(1) | 0.5108 |\n",
      "+------+--------+\n",
      "+------+--------+\n",
      "| A    |   P(A) |\n",
      "+======+========+\n",
      "| A(0) | 0.2000 |\n",
      "+------+--------+\n",
      "| A(1) | 0.8000 |\n",
      "+------+--------+\n"
     ]
    }
   ],
   "source": [
    "#4b.\n",
    "#We see that P(C)P(A) != P(A,C) so dependent  \n",
    "p = JPD(['A', 'B', 'C', 'D'], [2,2,2,2], [.0448, .0252, .0112, .0588, .0144, \n",
    "                                                            .0144, .0096, .0216, .1024, .0576, \n",
    "                                                            .0256, .1344, .1152, .1152, .0768, .1728])\n",
    "p.marginalize([\"D\", 'B'])\n",
    "print(p)\n",
    "\n",
    "p = JPD(['A', 'B', 'C', 'D'], [2,2,2,2], [.0448, .0252, .0112, .0588, .0144, \n",
    "                                                            .0144, .0096, .0216, .1024, .0576, \n",
    "                                                            .0256, .1344, .1152, .1152, .0768, .1728])\n",
    "p.marginalize(['A',\"D\", 'B'])\n",
    "print(p)\n",
    "\n",
    "p = JPD(['A', 'B', 'C', 'D'], [2,2,2,2], [.0448, .0252, .0112, .0588, .0144, \n",
    "                                                            .0144, .0096, .0216, .1024, .0576, \n",
    "                                                            .0256, .1344, .1152, .1152, .0768, .1728])\n",
    "p.marginalize(['B',\"D\", 'C'])\n",
    "print(p)\n"
   ]
  },
  {
   "cell_type": "code",
   "execution_count": null,
   "metadata": {},
   "outputs": [
    {
     "name": "stdout",
     "output_type": "stream",
     "text": [
      "+------+------+----------+\n",
      "| A    | B    |   P(A,B) |\n",
      "+======+======+==========+\n",
      "| A(0) | B(0) |   0.1400 |\n",
      "+------+------+----------+\n",
      "| A(0) | B(1) |   0.0600 |\n",
      "+------+------+----------+\n",
      "| A(1) | B(0) |   0.3200 |\n",
      "+------+------+----------+\n",
      "| A(1) | B(1) |   0.4800 |\n",
      "+------+------+----------+\n",
      "+------+--------+\n",
      "| B    |   P(B) |\n",
      "+======+========+\n",
      "| B(0) | 0.4600 |\n",
      "+------+--------+\n",
      "| B(1) | 0.5400 |\n",
      "+------+--------+\n",
      "+------+--------+\n",
      "| A    |   P(A) |\n",
      "+======+========+\n",
      "| A(0) | 0.2000 |\n",
      "+------+--------+\n",
      "| A(1) | 0.8000 |\n",
      "+------+--------+\n"
     ]
    }
   ],
   "source": [
    "#4c.\n",
    "#We see that P(B)P(A) != P(A,B) so dependent  \n",
    "p = JPD(['A', 'B', 'C', 'D'], [2,2,2,2], [.0448, .0252, .0112, .0588, .0144, \n",
    "                                                            .0144, .0096, .0216, .1024, .0576, \n",
    "                                                            .0256, .1344, .1152, .1152, .0768, .1728])\n",
    "p.marginalize([\"D\", 'C'])\n",
    "print(p)\n",
    "\n",
    "p = JPD(['A', 'B', 'C', 'D'], [2,2,2,2], [.0448, .0252, .0112, .0588, .0144, \n",
    "                                                            .0144, .0096, .0216, .1024, .0576, \n",
    "                                                            .0256, .1344, .1152, .1152, .0768, .1728])\n",
    "p.marginalize(['A',\"D\", 'C'])\n",
    "print(p)\n",
    "\n",
    "p = JPD(['A', 'B', 'C', 'D'], [2,2,2,2], [.0448, .0252, .0112, .0588, .0144, \n",
    "                                                            .0144, .0096, .0216, .1024, .0576, \n",
    "                                                            .0256, .1344, .1152, .1152, .0768, .1728])\n",
    "p.marginalize(['B',\"D\", 'C'])\n",
    "print(p)\n"
   ]
  },
  {
   "cell_type": "code",
   "execution_count": null,
   "metadata": {},
   "outputs": [],
   "source": []
  },
  {
   "cell_type": "code",
   "execution_count": 31,
   "metadata": {},
   "outputs": [
    {
     "data": {
      "text/html": [
       "<div>\n",
       "<style scoped>\n",
       "    .dataframe tbody tr th:only-of-type {\n",
       "        vertical-align: middle;\n",
       "    }\n",
       "\n",
       "    .dataframe tbody tr th {\n",
       "        vertical-align: top;\n",
       "    }\n",
       "\n",
       "    .dataframe thead th {\n",
       "        text-align: right;\n",
       "    }\n",
       "</style>\n",
       "<table border=\"1\" class=\"dataframe\">\n",
       "  <thead>\n",
       "    <tr style=\"text-align: right;\">\n",
       "      <th></th>\n",
       "      <th>Outlook</th>\n",
       "      <th>Temp</th>\n",
       "      <th>Humidity</th>\n",
       "      <th>Windy</th>\n",
       "      <th>Play</th>\n",
       "    </tr>\n",
       "  </thead>\n",
       "  <tbody>\n",
       "    <tr>\n",
       "      <th>0</th>\n",
       "      <td>S</td>\n",
       "      <td>H</td>\n",
       "      <td>I</td>\n",
       "      <td>F</td>\n",
       "      <td>N</td>\n",
       "    </tr>\n",
       "    <tr>\n",
       "      <th>1</th>\n",
       "      <td>S</td>\n",
       "      <td>H</td>\n",
       "      <td>I</td>\n",
       "      <td>T</td>\n",
       "      <td>N</td>\n",
       "    </tr>\n",
       "    <tr>\n",
       "      <th>2</th>\n",
       "      <td>O</td>\n",
       "      <td>H</td>\n",
       "      <td>I</td>\n",
       "      <td>F</td>\n",
       "      <td>Y</td>\n",
       "    </tr>\n",
       "    <tr>\n",
       "      <th>3</th>\n",
       "      <td>R</td>\n",
       "      <td>M</td>\n",
       "      <td>I</td>\n",
       "      <td>F</td>\n",
       "      <td>Y</td>\n",
       "    </tr>\n",
       "    <tr>\n",
       "      <th>4</th>\n",
       "      <td>R</td>\n",
       "      <td>C</td>\n",
       "      <td>N</td>\n",
       "      <td>F</td>\n",
       "      <td>Y</td>\n",
       "    </tr>\n",
       "    <tr>\n",
       "      <th>5</th>\n",
       "      <td>R</td>\n",
       "      <td>C</td>\n",
       "      <td>N</td>\n",
       "      <td>T</td>\n",
       "      <td>N</td>\n",
       "    </tr>\n",
       "    <tr>\n",
       "      <th>6</th>\n",
       "      <td>O</td>\n",
       "      <td>C</td>\n",
       "      <td>N</td>\n",
       "      <td>T</td>\n",
       "      <td>Y</td>\n",
       "    </tr>\n",
       "    <tr>\n",
       "      <th>7</th>\n",
       "      <td>S</td>\n",
       "      <td>M</td>\n",
       "      <td>I</td>\n",
       "      <td>F</td>\n",
       "      <td>N</td>\n",
       "    </tr>\n",
       "    <tr>\n",
       "      <th>8</th>\n",
       "      <td>S</td>\n",
       "      <td>C</td>\n",
       "      <td>N</td>\n",
       "      <td>F</td>\n",
       "      <td>Y</td>\n",
       "    </tr>\n",
       "    <tr>\n",
       "      <th>9</th>\n",
       "      <td>R</td>\n",
       "      <td>M</td>\n",
       "      <td>N</td>\n",
       "      <td>F</td>\n",
       "      <td>Y</td>\n",
       "    </tr>\n",
       "    <tr>\n",
       "      <th>10</th>\n",
       "      <td>S</td>\n",
       "      <td>M</td>\n",
       "      <td>N</td>\n",
       "      <td>T</td>\n",
       "      <td>Y</td>\n",
       "    </tr>\n",
       "    <tr>\n",
       "      <th>11</th>\n",
       "      <td>O</td>\n",
       "      <td>M</td>\n",
       "      <td>I</td>\n",
       "      <td>T</td>\n",
       "      <td>Y</td>\n",
       "    </tr>\n",
       "    <tr>\n",
       "      <th>12</th>\n",
       "      <td>O</td>\n",
       "      <td>H</td>\n",
       "      <td>N</td>\n",
       "      <td>F</td>\n",
       "      <td>Y</td>\n",
       "    </tr>\n",
       "    <tr>\n",
       "      <th>13</th>\n",
       "      <td>R</td>\n",
       "      <td>M</td>\n",
       "      <td>I</td>\n",
       "      <td>T</td>\n",
       "      <td>N</td>\n",
       "    </tr>\n",
       "  </tbody>\n",
       "</table>\n",
       "</div>"
      ],
      "text/plain": [
       "   Outlook Temp Humidity Windy Play\n",
       "0        S    H        I     F    N\n",
       "1        S    H        I     T    N\n",
       "2        O    H        I     F    Y\n",
       "3        R    M        I     F    Y\n",
       "4        R    C        N     F    Y\n",
       "5        R    C        N     T    N\n",
       "6        O    C        N     T    Y\n",
       "7        S    M        I     F    N\n",
       "8        S    C        N     F    Y\n",
       "9        R    M        N     F    Y\n",
       "10       S    M        N     T    Y\n",
       "11       O    M        I     T    Y\n",
       "12       O    H        N     F    Y\n",
       "13       R    M        I     T    N"
      ]
     },
     "execution_count": 31,
     "metadata": {},
     "output_type": "execute_result"
    }
   ],
   "source": [
    "#5\n",
    "# Outlook: Sunny = 5/14, Overcast = 4/14, Rainy = 5/14\n",
    "# Temp: Hot = 4/14, Mild = 6/14, Cool = 4/14\n",
    "# Humidity: High = 7/14, Normal = 7/14\n",
    "# Windy: T = 6/14, F = 8/14\n",
    "# Play: Yes = 9/14, No = 5/14 \n",
    "\n",
    "import pandas as p\n",
    "\n",
    "dic = {'Outlook': ['S', 'S', 'O', 'R', 'R', 'R', 'O', 'S', 'S', 'R', 'S', 'O', 'O', 'R'],\n",
    "       'Temp':    ['H', 'H', 'H', 'M', 'C', 'C', 'C', 'M', 'C', 'M', 'M', 'M', 'H', 'M'],\n",
    "       'Humidity':['I', 'I', 'I', 'I', 'N', 'N', 'N', 'I', 'N', 'N', 'N', 'I', 'N', 'I'],\n",
    "       'Windy':   ['F', 'T', 'F', 'F', 'F', 'T', 'T', 'F', 'F', 'F', 'T', 'T', 'F', 'T'],\n",
    "       'Play':    ['N', 'N', 'Y', 'Y', 'Y', 'N', 'Y', 'N', 'Y', 'Y', 'Y', 'Y', 'Y', 'N']}\n",
    "\n",
    "\n",
    "#'Play':    ['N', 'N', 'Y', 'Y', 'Y', 'N', 'Y', 'N', 'Y', 'Y', 'Y', 'Y', 'Y', 'N']\n",
    "frame = p.DataFrame(dic)\n",
    "frame"
   ]
  },
  {
   "cell_type": "code",
   "execution_count": 58,
   "metadata": {},
   "outputs": [],
   "source": [
    "%%capture\n",
    "from sklearn import preprocessing\n",
    "le = preprocessing.LabelEncoder()\n",
    "\n",
    "convertFrame = p.DataFrame()\n",
    "\n",
    "#https://scikit-learn.org/dev/modules/generated/sklearn.preprocessing.LabelEncoder.html\n",
    "\n",
    "for key in frame.columns:\n",
    "    le.fit(frame[[key]])\n",
    "    array = le.transform(frame[[key]])\n",
    "    convertFrame[key] = array\n",
    "\n",
    "convertFrame"
   ]
  },
  {
   "cell_type": "code",
   "execution_count": 68,
   "metadata": {},
   "outputs": [
    {
     "name": "stdout",
     "output_type": "stream",
     "text": [
      "For conditions: \n",
      " [[0 1 1 0]\n",
      " [1 2 0 0]\n",
      " [2 1 0 1]\n",
      " [1 0 1 1]\n",
      " [0 0 1 1]]\n",
      "We predict: \n",
      " [1 0 0 1 1]\n"
     ]
    },
    {
     "data": {
      "text/plain": [
       "0.6"
      ]
     },
     "execution_count": 68,
     "metadata": {},
     "output_type": "execute_result"
    }
   ],
   "source": [
    "from sklearn.tree import DecisionTreeClassifier\n",
    "from sklearn.model_selection import train_test_split\n",
    "\n",
    "x_train, x_test, y_train, y_test = train_test_split(convertFrame[['Outlook', 'Temp', 'Humidity', 'Windy']].values, convertFrame.Play.values, test_size=.3)\n",
    "tree = DecisionTreeClassifier(max_depth=4)\n",
    "\n",
    "tree.fit(x_train, y_train)\n",
    "print(\"For conditions: \\n\" ,x_test)\n",
    "print(\"We predict: \\n\" , tree.predict(x_test))\n",
    "tree.score(x_test, y_test)\n",
    "\n",
    "#for 60% accuracy "
   ]
  },
  {
   "cell_type": "code",
   "execution_count": 69,
   "metadata": {},
   "outputs": [
    {
     "name": "stderr",
     "output_type": "stream",
     "text": [
      "/usr/local/lib/python3.9/dist-packages/tqdm/auto.py:22: TqdmWarning: IProgress not found. Please update jupyter and ipywidgets. See https://ipywidgets.readthedocs.io/en/stable/user_install.html\n",
      "  from .autonotebook import tqdm as notebook_tqdm\n"
     ]
    }
   ],
   "source": [
    "'''\n",
    "So, a couple things.  I made the decision to create the network in such a way that each node\n",
    "effects the Play node. This was to create easier calculations and no relation was necessarily \n",
    "explicit in the given table.\n",
    "'''\n",
    "\n",
    "from pgmpy.models import BayesianNetwork\n",
    "from pgmpy.factors.discrete import TabularCPD\n",
    "\n",
    "model = BayesianNetwork([('Outlook', 'Play'), ('Temp', 'Play'), \n",
    "                         ('Humidity', 'Play'), ('Windy', 'Play')])"
   ]
  }
 ],
 "metadata": {
  "kernelspec": {
   "display_name": "Python 3",
   "language": "python",
   "name": "python3"
  },
  "language_info": {
   "codemirror_mode": {
    "name": "ipython",
    "version": 3
   },
   "file_extension": ".py",
   "mimetype": "text/x-python",
   "name": "python",
   "nbconvert_exporter": "python",
   "pygments_lexer": "ipython3",
   "version": "3.9.2"
  },
  "orig_nbformat": 4,
  "vscode": {
   "interpreter": {
    "hash": "916dbcbb3f70747c44a77c7bcd40155683ae19c65e1c03b4aa3499c5328201f1"
   }
  }
 },
 "nbformat": 4,
 "nbformat_minor": 2
}
