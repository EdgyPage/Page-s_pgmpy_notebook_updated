{
 "cells": [
  {
   "cell_type": "code",
   "execution_count": 5,
   "metadata": {},
   "outputs": [],
   "source": [
    "from pgmpy.factors.discrete import TabularCPD\n",
    "from pgmpy.factors.discrete import DiscreteFactor\n",
    "from pgmpy.models import BayesianModel"
   ]
  },
  {
   "cell_type": "code",
   "execution_count": 12,
   "metadata": {},
   "outputs": [
    {
     "name": "stdout",
     "output_type": "stream",
     "text": [
      "+------+------+------+------+----------------+\n",
      "| A    | B    | C    | D    |   phi(A,B,C,D) |\n",
      "+======+======+======+======+================+\n",
      "| A(0) | B(0) | C(0) | D(0) |         0.0448 |\n",
      "+------+------+------+------+----------------+\n",
      "| A(0) | B(0) | C(0) | D(1) |         0.0252 |\n",
      "+------+------+------+------+----------------+\n",
      "| A(0) | B(0) | C(1) | D(0) |         0.0112 |\n",
      "+------+------+------+------+----------------+\n",
      "| A(0) | B(0) | C(1) | D(1) |         0.0588 |\n",
      "+------+------+------+------+----------------+\n",
      "| A(0) | B(1) | C(0) | D(0) |         0.0144 |\n",
      "+------+------+------+------+----------------+\n",
      "| A(0) | B(1) | C(0) | D(1) |         0.0144 |\n",
      "+------+------+------+------+----------------+\n",
      "| A(0) | B(1) | C(1) | D(0) |         0.0096 |\n",
      "+------+------+------+------+----------------+\n",
      "| A(0) | B(1) | C(1) | D(1) |         0.0216 |\n",
      "+------+------+------+------+----------------+\n",
      "| A(1) | B(0) | C(0) | D(0) |         0.1024 |\n",
      "+------+------+------+------+----------------+\n",
      "| A(1) | B(0) | C(0) | D(1) |         0.0576 |\n",
      "+------+------+------+------+----------------+\n",
      "| A(1) | B(0) | C(1) | D(0) |         0.0256 |\n",
      "+------+------+------+------+----------------+\n",
      "| A(1) | B(0) | C(1) | D(1) |         0.1344 |\n",
      "+------+------+------+------+----------------+\n",
      "| A(1) | B(1) | C(0) | D(0) |         0.1152 |\n",
      "+------+------+------+------+----------------+\n",
      "| A(1) | B(1) | C(0) | D(1) |         0.1152 |\n",
      "+------+------+------+------+----------------+\n",
      "| A(1) | B(1) | C(1) | D(0) |         0.0768 |\n",
      "+------+------+------+------+----------------+\n",
      "| A(1) | B(1) | C(1) | D(1) |         0.1728 |\n",
      "+------+------+------+------+----------------+\n"
     ]
    }
   ],
   "source": [
    "problem4 = DiscreteFactor(['A', 'B', 'C', 'D'], [2,2,2,2], [.0448, .0252, .0112, .0588, .0144, \n",
    "                                                            .0144, .0096, .0216, .1024, .0576, \n",
    "                                                            .0256, .1344, .1152, .1152, .0768, .1728])\n",
    "print(problem4)\n"
   ]
  },
  {
   "cell_type": "code",
   "execution_count": 18,
   "metadata": {},
   "outputs": [
    {
     "data": {
      "text/plain": [
       "<bound method DiscreteFactor.__str__ of <DiscreteFactor representing phi(A:2, B:2, C:2, D:2) at 0x144a7d10e80>>"
      ]
     },
     "execution_count": 18,
     "metadata": {},
     "output_type": "execute_result"
    }
   ],
   "source": [
    "problem4.__str__"
   ]
  }
 ],
 "metadata": {
  "kernelspec": {
   "display_name": "Python 3",
   "language": "python",
   "name": "python3"
  },
  "language_info": {
   "codemirror_mode": {
    "name": "ipython",
    "version": 3
   },
   "file_extension": ".py",
   "mimetype": "text/x-python",
   "name": "python",
   "nbconvert_exporter": "python",
   "pygments_lexer": "ipython3",
   "version": "3.9.10"
  },
  "orig_nbformat": 4,
  "vscode": {
   "interpreter": {
    "hash": "478549c9fc2149c5070e823c32ebf2f192805b882630a23e652e022c51a3ad72"
   }
  }
 },
 "nbformat": 4,
 "nbformat_minor": 2
}
